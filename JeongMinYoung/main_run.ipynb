{
 "cells": [
  {
   "metadata": {
    "ExecuteTime": {
     "end_time": "2025-07-17T00:23:16.994848Z",
     "start_time": "2025-07-17T00:22:52.566721Z"
    }
   },
   "cell_type": "code",
   "source": "from utils1.main import run_flexible_rag1, run_flexible_rag2, run_flexible_rag3",
   "id": "2cf549dbca622768",
   "outputs": [
    {
     "name": "stderr",
     "output_type": "stream",
     "text": [
      "C:\\Workspaces\\3rd_team_project\\JeongMinYoung\\utils1\\retreiver_setting.py:71: LangChainDeprecationWarning: The class `OpenAIEmbeddings` was deprecated in LangChain 0.0.9 and will be removed in 1.0. An updated version of the class exists in the :class:`~langchain-openai package and should be used instead. To use it run `pip install -U :class:`~langchain-openai` and import as `from :class:`~langchain_openai import OpenAIEmbeddings``.\n",
      "  embeddings = OpenAIEmbeddings(model=EMBEDDING_MODEL)\n"
     ]
    }
   ],
   "execution_count": 1
  },
  {
   "metadata": {
    "ExecuteTime": {
     "end_time": "2025-07-17T00:23:22.681302Z",
     "start_time": "2025-07-17T00:23:17.478922Z"
    }
   },
   "cell_type": "code",
   "source": [
    "question = \"삼성전자 2022년 사업 상황 알려줘\"\n",
    "response = run_flexible_rag1(question)\n",
    "print(response)"
   ],
   "id": "e57884a4d26c7a24",
   "outputs": [
    {
     "name": "stdout",
     "output_type": "stream",
     "text": [
      "📥 business 처리 시작\n"
     ]
    },
    {
     "name": "stderr",
     "output_type": "stream",
     "text": [
      "C:\\Workspaces\\3rd_team_project\\JeongMinYoung\\utils1\\handle_node.py:40: LangChainDeprecationWarning: The method `BaseRetriever.get_relevant_documents` was deprecated in langchain-core 0.1.46 and will be removed in 1.0. Use :meth:`~invoke` instead.\n",
      "  docs = self_retriever.get_relevant_documents(question)\n"
     ]
    },
    {
     "name": "stdout",
     "output_type": "stream",
     "text": [
      "안녕하세요! 삼성전자 2022년 사업 상황에 대해 가장 중요한 것만 알려드릴게요.\n",
      "\n",
      "**이 회사는요,** 반도체, 디스플레이, 스마트폰, 가전제품을 만드는 곳이에요. 쉽게 말해, 우리가 자주 쓰는 전자제품을 만드는 회사죠.\n",
      "\n",
      "**가장 큰 이슈는** 해외 매출이 전체의 70%를 차지할 만큼 글로벌 시장에서 활발히 활동하고 있다는 점이에요.\n",
      "\n",
      "더 궁금한 게 생기면 언제든 다시 물어보세요!\n"
     ]
    }
   ],
   "execution_count": 2
  },
  {
   "metadata": {
    "ExecuteTime": {
     "end_time": "2025-07-17T00:23:34.660875Z",
     "start_time": "2025-07-17T00:23:27.465713Z"
    }
   },
   "cell_type": "code",
   "source": [
    "question = \"삼성전자 2022년 사업 상황 알려줘\"\n",
    "response = run_flexible_rag2(question)\n",
    "print(response)"
   ],
   "id": "abfb83b6ff8c05e9",
   "outputs": [
    {
     "name": "stdout",
     "output_type": "stream",
     "text": [
      "📥 business 처리 시작\n",
      "안녕하세요! 삼성전자 2022년 사업 상황에 대해 사업보고서 중심으로 분석해 봤어요.\n",
      "\n",
      "**현재 사업 상황을 보면,** 삼성전자는 반도체, 디스플레이, IT & 모바일, 가전 사업을 주요 사업 부문으로 운영하고 있어요. 특히, 반도체와 디스플레이 패널, 스마트폰 등에서 강력한 제품 라인업을 보유하고 있으며, 전체 매출의 70%가 해외에서 발생하고 있어요.\n",
      "\n",
      "**최근 가장 눈에 띄는 변화는** 당기순이익이 전년 대비 감소한 점인데, 이는 글로벌 시장의 경쟁 심화와 공급망 이슈 등 외부 요인과 관련이 있는 것으로 보여요.\n",
      "\n",
      "**그래서 앞으로는** 반도체와 모바일 시장에서의 경쟁력 강화를 통해 해외 시장에서의 점유율 확대를 기대해볼 수 있겠네요. 특히, 기술 혁신과 제품 다양화를 통해 시장 기회를 적극적으로 활용할 가능성이 있어요.\n",
      "\n",
      "특정 사업 부문에 대해 더 자세히 알고 싶으시면 말씀해주세요!\n"
     ]
    }
   ],
   "execution_count": 3
  },
  {
   "metadata": {
    "ExecuteTime": {
     "end_time": "2025-07-17T00:23:53.466997Z",
     "start_time": "2025-07-17T00:23:47.419667Z"
    }
   },
   "cell_type": "code",
   "source": [
    "question = \"삼성전자 2022년 사업 상황 알려줘\"\n",
    "response = run_flexible_rag3(question)\n",
    "print(response)"
   ],
   "id": "8691ed3b39a18b47",
   "outputs": [
    {
     "name": "stdout",
     "output_type": "stream",
     "text": [
      "📥 business 처리 시작\n",
      "안녕하십니까. 삼성전자 2022년 사업 상황에 대한 전략적 분석 결과를 말씀드리겠습니다.\n",
      "\n",
      "사업보고서를 분석한 결과, 다음과 같은 기회와 리스크 요인이 보입니다.\n",
      "\n",
      "- **기회 요인:** 글로벌 시장에서의 강력한 입지를 바탕으로, 특히 반도체와 디스플레이 분야에서의 기술 발전과 수요 증가를 활용해 회사의 강점을 극대화할 수 있습니다. 해외 매출이 전체 매출의 70%를 차지하고 있어, 글로벌 시장에서의 성장 가능성이 큽니다.\n",
      "\n",
      "- **리스크 요인:** 반면, 반도체 및 디스플레이 시장의 경쟁 심화와 기술 변화는 회사의 지속적인 혁신과 비용 관리에 영향을 줄 수 있어 관리가 필요합니다. 또한, 주식배당수익률이 명시되지 않은 점은 투자자들에게 불확실성을 줄 수 있습니다.\n",
      "\n",
      "**따라서 이 회사의 핵심 전략은** 기술 혁신을 지속하고 글로벌 시장에서의 경쟁력을 강화하는 동시에, 비용 효율성을 높여 리스크를 관리하는 것으로 해석됩니다.\n",
      "\n",
      "더 상세한 리스크 분석이나 경쟁사 비교가 필요하시면 말씀해주십시오.\n"
     ]
    }
   ],
   "execution_count": 4
  },
  {
   "metadata": {
    "ExecuteTime": {
     "end_time": "2025-07-17T00:24:21.002277Z",
     "start_time": "2025-07-17T00:24:11.065808Z"
    }
   },
   "cell_type": "code",
   "source": [
    "question = \"네이버 2024년 사업 재무상태 어때?\"\n",
    "response = run_flexible_rag1(question)\n",
    "print(response)"
   ],
   "id": "8879f29bd486816a",
   "outputs": [
    {
     "name": "stdout",
     "output_type": "stream",
     "text": [
      "📥 hybrid 처리 시작\n",
      "안녕하세요! 네이버의 2024년 재무 상태에 대해 알아봤어요.\n",
      "\n",
      "**1. 이 회사는요,**\n",
      "네이버는 인터넷 검색 사이트 운영과 온라인 정보 제공 사업을 주로 하고 있어요. 주요 매출원은 서치플랫폼과 커머스 등이에요.\n",
      "\n",
      "**2. 돈은 이만큼 벌었어요! (2024년 기준)**\n",
      "- 매출은 약 107,377억원 정도고요,\n",
      "- 순이익은 약 19,320억원이에요.\n",
      "\n",
      "**3. 재무 상태는 튼튼해요? (2024년 기준)**\n",
      "- 총자산은 약 381,679억원, 총부채는 약 111,670억원이에요.\n",
      "- 자산이 부채보다 훨씬 많아서 재무 상태가 안정적이네요.\n",
      "\n",
      "더 궁금한 점 있으시면 언제든 다시 물어보세요!\n"
     ]
    }
   ],
   "execution_count": 5
  },
  {
   "metadata": {
    "ExecuteTime": {
     "end_time": "2025-07-17T00:24:48.345220Z",
     "start_time": "2025-07-17T00:24:32.379703Z"
    }
   },
   "cell_type": "code",
   "source": [
    "question = \"네이버 2024년 사업 재무상태 어때?\"\n",
    "response = run_flexible_rag2(question)\n",
    "print(response)"
   ],
   "id": "13cf781e53a4bf47",
   "outputs": [
    {
     "name": "stdout",
     "output_type": "stream",
     "text": [
      "📥 hybrid 처리 시작\n",
      "안녕하세요! 네이버의 2024년 사업 재무상태에 대해 분석해 봤어요.\n",
      "\n",
      "**1. 작년과 비교하면 어떻게 달라졌나요?**\n",
      "- **매출과 이익**: 2024년의 영업수익은 10,737억원으로, 전년의 9,670억원에 비해 약 11% 증가했어요. 영업이익도 1,979억원으로 전년의 1,488억원보다 증가했네요. 이는 전반적인 매출 증가와 비용 관리의 결과로 보여요.\n",
      "- **자산과 부채**: 자산총계는 38,168억원으로 전년의 35,738억원에 비해 약 7% 증가했어요. 반면, 부채총계는 11,167억원으로 전년의 11,499억원에서 약간 감소했어요. 이는 자본의 증가와 부채의 감소로 인해 재무 안정성이 개선된 것으로 보여요.\n",
      "\n",
      "**2. 이런 변화는 사업적으로 어떤 의미가 있을까요?**\n",
      "재무제표의 변화를 보면, 네이버는 매출 증가와 비용 절감을 통해 수익성을 개선하고 있는 것으로 보여요. 특히, 영업수익의 증가가 두드러지는데, 이는 네이버의 다양한 사업 부문에서의 성장이 반영된 결과일 수 있어요. 또한, 부채의 감소는 재무 구조의 안정성을 높이는 긍정적인 신호로 볼 수 있어요.\n",
      "\n",
      "**3. 종합적으로 보면,**\n",
      "네이버는 2024년에 들어서면서 매출과 이익 모두 증가하며 긍정적인 재무 성과를 보이고 있어요. 자산 증가와 부채 감소는 재무 건전성을 높이는 요인으로 작용하고 있으며, 이는 앞으로의 사업 확장과 안정적인 운영에 긍정적인 영향을 미칠 것으로 예상돼요.\n",
      "\n",
      "더 깊이 있는 분석이 필요하시면 말씀해주세요!\n"
     ]
    }
   ],
   "execution_count": 6
  },
  {
   "metadata": {},
   "cell_type": "code",
   "outputs": [],
   "execution_count": null,
   "source": [
    "question = \"네이버 2024년 사업 재무상태 어때?\"\n",
    "response = run_flexible_rag3(question)\n",
    "print(response)"
   ],
   "id": "371bf98d58e1bc90"
  },
  {
   "metadata": {
    "ExecuteTime": {
     "end_time": "2025-07-16T14:17:15.602627Z",
     "start_time": "2025-07-16T14:16:51.571665Z"
    }
   },
   "cell_type": "code",
   "source": [
    "question = \"삼성전자 2022년에서 2023년에 사업 재무상태 어때?\"\n",
    "response = run_flexible_rag2(question)\n",
    "print(response)"
   ],
   "id": "a129152f4dd9474a",
   "outputs": [
    {
     "name": "stdout",
     "output_type": "stream",
     "text": [
      "📥 hybrid 처리 시작\n",
      "안녕하세요! 삼성전자의 2022년과 2023년 사업 재무상태를 분석해 봤어요.\n",
      "\n",
      "**1. 작년과 비교하면 어떻게 달라졌나요?**\n",
      "- **매출과 이익**: 2023년 매출은 258,935억원으로, 전년 대비 감소했어요. 영업이익도 6,567억원으로 줄어들었네요. 이는 전반적인 매출 감소와 함께 영업비용 증가가 영향을 미친 것으로 보여요.\n",
      "- **자산과 부채**: 자산은 455,906억원으로 증가했지만, 부채는 92,228억원으로 감소했어요. 이는 재무 안정성이 개선된 것으로 볼 수 있어요.\n",
      "\n",
      "**2. 이런 변화는 사업적으로 어떤 의미가 있을까요?**\n",
      "매출 감소는 글로벌 경제 상황이나 특정 사업 부진과 관련이 있을 수 있어요. 특히, 반도체나 디스플레이 사업의 수요 변동이 영향을 미쳤을 가능성이 있어요. 하지만 부채 감소는 재무 구조 개선을 위한 노력이 있었음을 보여주네요.\n",
      "\n",
      "**3. 종합적으로 보면,**\n",
      "삼성전자는 매출 감소에도 불구하고 부채를 줄이며 재무 안정성을 강화하는 방향으로 나아가고 있는 상황이에요. 이는 장기적으로 긍정적인 영향을 미칠 수 있을 것으로 보여요.\n",
      "\n",
      "더 깊이 있는 분석이 필요하시면 말씀해주세요!\n"
     ]
    }
   ],
   "execution_count": 11
  },
  {
   "metadata": {
    "ExecuteTime": {
     "end_time": "2025-07-17T00:25:22.847943Z",
     "start_time": "2025-07-17T00:25:12.095987Z"
    }
   },
   "cell_type": "code",
   "source": [
    "question = \"삼성전자 2024년 재무제표 어때?\"\n",
    "response = run_flexible_rag1(question)\n",
    "print(response)"
   ],
   "id": "992448479a211894",
   "outputs": [
    {
     "name": "stdout",
     "output_type": "stream",
     "text": [
      "📥 financial 처리 시작\n",
      "안녕하세요! 삼성전자의 2024년 성적표를 쉽고 간단하게 알려드릴게요.\n",
      "\n",
      "**✅ 돈은 작년보다 잘 벌었나요?**\n",
      "네, 아주 잘 벌었어요!\n",
      "- **매출** (회사의 1년 총 판매금액)은 **16.2% 늘어난 3,008,709억원**을 기록했고요,\n",
      "- **영업이익** (장사해서 실제로 남긴 돈)은 무려 **398.3%나 늘어난 32,726억원**이에요. 작년보다 장사를 훨씬 잘했네요!\n",
      "\n",
      "**✅ 회사는 튼튼한가요?**\n",
      "네, 튼튼해요!\n",
      "- **자산** (회사가 가진 모든 재산)은 **12.9% 늘어난 5,145,319억원**이고요,\n",
      "- **부채** (갚아야 할 돈)는 **92,228억원**에서 **112,340억원**으로 조금 늘었지만, 자산에 비하면 아주 적은 수준이에요.\n",
      "\n",
      "**한마디로,** 삼성전자는 2024년에 돈도 훨씬 잘 벌고 회사도 더 튼튼해졌어요!\n",
      "\n",
      "더 궁금한 점 있으시면 편하게 물어보세요.\n"
     ]
    }
   ],
   "execution_count": 7
  },
  {
   "metadata": {
    "ExecuteTime": {
     "end_time": "2025-07-17T00:25:36.332644Z",
     "start_time": "2025-07-17T00:25:26.616433Z"
    }
   },
   "cell_type": "code",
   "source": [
    "question = \"삼성전자 2024년 재무제표 어때?\"\n",
    "response = run_flexible_rag2(question)\n",
    "print(response)"
   ],
   "id": "2624a4c17ca01a76",
   "outputs": [
    {
     "name": "stdout",
     "output_type": "stream",
     "text": [
      "📥 financial 처리 시작\n",
      "안녕하세요! 삼성전자의 재무 데이터를 분석하여 설명해드릴게요.\n",
      "\n",
      "📊 **연도별 주요 실적**\n",
      "\n",
      "- **매출액**: 2024년 300,870,903억 원, 2023년 258,935,494억 원 (16.2% 증가)\n",
      "- **영업이익**: 2024년 32,725,961억 원, 2023년 6,566,976억 원 (398.3% 증가)\n",
      "- **당기순이익**: 2024년 34,451,351억 원, 2023년 15,487,100억 원 (122.4% 증가)\n",
      "\n",
      "**실적 변화를 보면,**\n",
      "- 매출은 2023년 대비 2024년에 16.2% 증가하여 300,870,903억 원을 기록했습니다.\n",
      "- 영업이익은 같은 기간 398.3% 증가했고, 순이익은 122.4% 증가했습니다.\n",
      "\n",
      "📌 **요약하자면**, 매출과 수익성이 크게 개선되는 흐름을 보이고 있으며, 특히 영업이익의 급격한 증가가 눈에 띕니다. 이는 비용 절감이나 매출 증가에 따른 수익성 개선으로 해석될 수 있습니다. 안정성 또는 미래 전망은 추가 분석이 필요할 수 있습니다.\n",
      "\n",
      "더 궁금한 항목이 있으시면 언제든지 질문해주세요!\n"
     ]
    }
   ],
   "execution_count": 8
  },
  {
   "metadata": {
    "ExecuteTime": {
     "end_time": "2025-07-17T00:26:01.666384Z",
     "start_time": "2025-07-17T00:25:40.747778Z"
    }
   },
   "cell_type": "code",
   "source": [
    "question = \"삼성전자 2024년 재무제표 어때?\"\n",
    "response = run_flexible_rag3(question)\n",
    "print(response)"
   ],
   "id": "dc0b7ee1fce92671",
   "outputs": [
    {
     "name": "stdout",
     "output_type": "stream",
     "text": [
      "📥 financial 처리 시작\n",
      "안녕하십니까. 삼성전자의 재무제표를 비교 분석한 결과를 말씀드리겠습니다.\n",
      "\n",
      "먼저, 최근 2개년 재무 현황을 비교 분석한 결과입니다:\n",
      "\n",
      "**[손익 현황]**\n",
      "- **매출액**\n",
      "  - '23년: 2,589,355억원 | '24년: 3,008,709억원 | 증감: +419,354억원 (↑16.2%)\n",
      "  - *해석: 전반적인 사업 규모가 크게 확장되었습니다.*\n",
      "- **매출총이익**\n",
      "  - '23년: 7,854,691억원 | '24년: 11,430,863억원 | 증감: +3,576,172억원 (↑45.5%)\n",
      "  - *해석: 원가 관리를 통한 수익 창출 능력이 개선되었습니다.*\n",
      "- **영업이익**\n",
      "  - '23년: 6,567억원 | '24년: 32,725억원 | 증감: +26,158억원 (↑398.3%)\n",
      "  - *해석: 본업에서의 이익 창출 능력이 폭발적으로 증가했습니다.*\n",
      "- **당기순이익**\n",
      "  - '23년: 15,487억원 | '24년: 34,451억원 | 증감: +18,964억원 (↑122.4%)\n",
      "  - *해석: 순이익이 크게 증가하여 전반적인 수익성이 개선되었습니다.*\n",
      "\n",
      "**[재무 상태]**\n",
      "- **자산총계**\n",
      "  - '23년: 4,559,060억원 | '24년: 5,145,319억원 | 증감: +586,259억원 (↑12.9%)\n",
      "  - *해석: 기업의 전체적인 규모가 꾸준히 성장하고 있습니다.*\n",
      "- **부채총계**\n",
      "  - '23년: 922,281억원 | '24년: 1,123,398억원 | 증감: +201,117억원 (↑21.8%)\n",
      "  - *해석: 사업 확장에 따라 부채 활용도 함께 증가했습니다.*\n",
      "- **자본총계**\n",
      "  - '23년: 3,636,779억원 | '24년: 4,021,920억원 | 증감: +385,141억원 (↑10.6%)\n",
      "  - *해석: 이익 누적 등을 통해 자기자본이 건실하게 증가했습니다.*\n",
      "\n",
      "다음으로, 이 수치들을 바탕으로 회사의 핵심 역량을 3가지 관점에서 분석하겠습니다.\n",
      "\n",
      "- **수익성:** 2024년 영업이익률은 10.9%로, 전년(2.5%) 대비 크게 개선되었습니다. 이는 본업의 수익 창출력이 강화되었음을 의미합니다.\n",
      "- **안정성:** 부채비율은 27.9%로, 전년(25.4%) 대비 소폭 증가했으나 여전히 매우 안정적인 수준을 유지하고 있습니다.\n",
      "- **효율성:** ROE는 8.6%로, 주주자본을 활용한 이익 창출 효율성이 전년 대비 크게 향상되었습니다.\n",
      "\n",
      "**종합적으로,** 삼성전자는 2024년에 외형 성장과 수익성 개선을 동시에 달성하며 뛰어난 성과를 보였습니다. 부채가 다소 늘었지만, 전반적인 재무 건전성은 여전히 우수합니다.\n",
      "\n",
      "더 궁금하신 항목이 있다면 추가로 분석해드리겠습니다.\n"
     ]
    }
   ],
   "execution_count": 9
  },
  {
   "metadata": {
    "ExecuteTime": {
     "end_time": "2025-07-17T00:26:11.293072Z",
     "start_time": "2025-07-17T00:26:06.569839Z"
    }
   },
   "cell_type": "code",
   "source": [
    "question = \"재고 자산 회계 처리 방법이 뭐야???\"\n",
    "response = run_flexible_rag1(question)\n",
    "print(response)"
   ],
   "id": "38d610e61af73d49",
   "outputs": [
    {
     "name": "stdout",
     "output_type": "stream",
     "text": [
      "📥 accounting 처리 시작\n",
      "안녕하세요! 재고 자산 회계 처리 방법이 궁금하시군요. 아주 쉽게 설명해드릴게요.\n",
      "\n",
      "**한마디로 말하면,** 재고 자산의 가치를 어떻게 계산하고 기록할지 정하는 방법이에요.\n",
      "\n",
      "예를 들어, 가게에서 물건을 사서 팔 때, 그 물건의 원가를 어떻게 계산할지 정하는 거라고 생각하면 쉬워요. 물건을 먼저 산 순서대로 계산하는 방법(선입선출법)이나 평균을 내서 계산하는 방법(가중평균법) 등이 있어요.\n",
      "\n",
      "더 궁금한 점 있으시면 편하게 물어보세요!\n"
     ]
    }
   ],
   "execution_count": 10
  },
  {
   "metadata": {},
   "cell_type": "markdown",
   "source": "",
   "id": "8f0c9638a102df86"
  },
  {
   "metadata": {
    "ExecuteTime": {
     "end_time": "2025-07-17T00:26:22.412742Z",
     "start_time": "2025-07-17T00:26:17.287982Z"
    }
   },
   "cell_type": "code",
   "source": [
    "question = \"재고 자산 회계 처리 방법이 뭐야???\"\n",
    "response = run_flexible_rag2(question)\n",
    "print(response)"
   ],
   "id": "e4555d2a65de0b9",
   "outputs": [
    {
     "name": "stdout",
     "output_type": "stream",
     "text": [
      "📥 accounting 처리 시작\n",
      "안녕하세요! 재고 자산 회계 처리 방법에 대해 실무 중심으로 설명해드릴게요.\n",
      "\n",
      "**먼저, 재고 자산 회계 처리란** 재고자산의 원가를 결정하고, 이를 자산으로 인식하여 관련 수익이 인식될 때까지 장부에 표시하는 과정을 의미해요. 이 과정은 재고자산의 원가결정 및 순실현가능가치로 감액하는 것을 포함한 후속적 비용인식에 대한 지침을 제공합니다.\n",
      "\n",
      "**실무에서는** 재고자산의 원가를 선입선출법(FIFO)이나 가중평균법을 사용하여 결정하고, 순실현가능가치로 감액하는 저가법을 적용하는 방식으로 처리합니다. **가장 중요한 점은** 재고자산의 원가를 회수하기 어려운 경우(예: 손상, 진부화, 판매가격 하락 등)에는 순실현가능가치로 감액하여야 한다는 거예요.\n",
      "\n",
      "혹시 특정 상황에서의 적용 방법이 궁금하시면 더 구체적으로 질문해주세요!\n"
     ]
    }
   ],
   "execution_count": 11
  },
  {
   "metadata": {
    "ExecuteTime": {
     "end_time": "2025-07-17T00:26:32.528538Z",
     "start_time": "2025-07-17T00:26:25.762938Z"
    }
   },
   "cell_type": "code",
   "source": [
    "question = \"재고 자산 회계 처리 방법이 뭐야???\"\n",
    "response = run_flexible_rag3(question)\n",
    "print(response)"
   ],
   "id": "62b7d018c2516a94",
   "outputs": [
    {
     "name": "stdout",
     "output_type": "stream",
     "text": [
      "📥 accounting 처리 시작\n",
      "안녕하십니까. 재고자산 회계 처리 방법에 대한 회계기준의 핵심 원칙을 설명드리겠습니다.\n",
      "\n",
      "이 내용은 주로 '기업회계기준서 제1002호 재고자산'에서 다루고 있으며, 아래와 같은 핵심 요소들을 중심으로 판단하게 됩니다.\n",
      "\n",
      "1. **인식**: 재고자산은 자산으로 인식되며, 이는 관련 수익이 인식될 때까지 장부에 표시됩니다. 재고자산의 인식은 그 원가 금액을 적절하게 결정하는 것이 중요합니다.\n",
      "\n",
      "2. **측정**: 재고자산의 원가는 선입선출법(FIFO)이나 가중평균법을 사용하여 결정할 수 있습니다. 후입선출법(LIFO)은 삭제되었습니다. 재고자산의 원가는 순실현가능가치로 감액될 수 있으며, 이는 자산의 장부금액이 판매나 사용으로부터 실현될 것으로 기대되는 금액을 초과하지 않도록 합니다.\n",
      "\n",
      "3. **원가 배분**: 재고자산의 원가를 배분하는 방법으로는 선입선출법과 가중평균법이 있으며, 성격과 용도 면에서 유사한 재고자산에는 동일한 단위원가 결정방법을 적용해야 합니다.\n",
      "\n",
      "4. **특수한 경우**: 농수산물, 임산물, 광물자원 등의 경우에는 순실현가능가치로 측정할 수 있으며, 일반상품 중개기업의 경우에는 공정가치에서 처분부대원가를 뺀 금액으로 측정할 수 있습니다.\n",
      "\n",
      "이와 같은 원칙들은 재고자산의 회계처리를 명확하게 하고, 재무제표의 신뢰성을 높이는 데 기여합니다. 추가적인 세부사항이나 특정 상황에 대한 내용은 제공된 기준서에서 확인하실 수 있습니다.\n"
     ]
    }
   ],
   "execution_count": 12
  },
  {
   "metadata": {
    "ExecuteTime": {
     "end_time": "2025-07-16T20:18:41.485790Z",
     "start_time": "2025-07-16T20:18:27.358376Z"
    }
   },
   "cell_type": "code",
   "source": [
    "question = \"재고 자산 회계 처리 방법이 뭐가 있어???\"\n",
    "response = run_flexible_rag2(question)\n",
    "print(response)"
   ],
   "id": "2f44a552d57bd65b",
   "outputs": [
    {
     "name": "stdout",
     "output_type": "stream",
     "text": [
      "📥 accounting 처리 시작\n",
      "안녕하세요! 재고 자산 회계 처리 방법에 대해 실무 중심으로 설명해드릴게요.\n",
      "\n",
      "**먼저, 재고 자산 회계 처리란** 재고자산의 원가를 결정하고, 이를 자산으로 인식하여 관련 수익이 인식될 때까지 장부에 표시하는 과정을 의미해요.\n",
      "\n",
      "**실무에서는** 재고자산의 원가를 선입선출법(FIFO)이나 가중평균법을 사용하여 결정하고, 순실현가능가치로 감액하는 저가법을 적용하는 방식으로 처리해요. **가장 중요한 점은** 재고자산의 원가가 회수 가능하지 않을 경우, 이를 순실현가능가치로 감액하여야 한다는 거예요.\n",
      "\n",
      "혹시 특정 상황에서의 적용 방법이 궁금하시면 더 구체적으로 질문해주세요!\n"
     ]
    }
   ],
   "execution_count": 17
  },
  {
   "metadata": {
    "ExecuteTime": {
     "end_time": "2025-07-16T20:18:07.532944Z",
     "start_time": "2025-07-16T20:17:54.162053Z"
    }
   },
   "cell_type": "code",
   "source": [
    "question = \"재고 자산 회계 처리 방법이 뭐야???\"\n",
    "response = run_flexible_rag3(question)\n",
    "print(response)"
   ],
   "id": "967df9e0733fa3ba",
   "outputs": [
    {
     "name": "stdout",
     "output_type": "stream",
     "text": [
      "📥 accounting 처리 시작\n",
      "안녕하십니까. 재고자산 회계 처리 방법에 대한 회계기준의 핵심 원칙을 설명드리겠습니다.\n",
      "\n",
      "이 내용은 주로 '기업회계기준서 제1002호 재고자산'에서 다루고 있으며, 아래와 같은 핵심 요소들을 중심으로 판단하게 됩니다.\n",
      "\n",
      "1. **인식**: 재고자산은 자산으로 인식되며, 이는 수익이 인식될 때까지 장부에 표시됩니다. 재고자산의 인식은 그 원가 금액을 적절하게 결정하는 것이 중요합니다.\n",
      "\n",
      "2. **측정**: 재고자산의 원가는 선입선출법(FIFO)이나 가중평균법을 사용하여 결정할 수 있습니다. 후입선출법(LIFO)은 삭제되었으며, 이는 실제 재고자산 흐름을 신뢰성 있게 표시하지 못하기 때문입니다. 또한, 재고자산은 순실현가능가치로 감액될 수 있으며, 이는 자산의 장부금액이 판매나 사용으로부터 실현될 것으로 기대되는 금액을 초과하지 않도록 하기 위함입니다.\n",
      "\n",
      "3. **원가 배분**: 재고자산의 원가를 배분하는 데 있어, 성격과 용도 면에서 유사한 재고자산에는 동일한 단위원가 결정방법을 적용해야 합니다. 이는 회계처리의 일관성을 유지하기 위함입니다.\n",
      "\n",
      "4. **특수한 경우**: 농수산물, 임산물, 광물자원 등의 경우에는 순실현가능가치로 측정할 수 있으며, 일반상품 중개기업의 경우에는 공정가치에서 처분부대원가를 뺀 금액으로 측정할 수 있습니다.\n",
      "\n",
      "이와 같은 원칙들은 재고자산의 회계처리를 명확하고 일관되게 유지하기 위한 지침을 제공합니다. 추가적인 세부사항이나 다른 회계처리에 대한 내용은 제공된 기준서에서 다루고 있지 않습니다.\n"
     ]
    }
   ],
   "execution_count": 15
  },
  {
   "metadata": {
    "ExecuteTime": {
     "end_time": "2025-07-17T00:26:42.112965Z",
     "start_time": "2025-07-17T00:26:37.716280Z"
    }
   },
   "cell_type": "code",
   "source": [
    "question = \"재고자산?\"\n",
    "response = run_flexible_rag1(question)\n",
    "print(response)"
   ],
   "id": "f592699c2393d879",
   "outputs": [
    {
     "name": "stdout",
     "output_type": "stream",
     "text": [
      "📥 accounting 처리 시작\n",
      "안녕하세요! 재고자산이 궁금하시군요. 아주 쉽게 설명해드릴게요.\n",
      "\n",
      "**한마디로 말하면,** 재고자산은 기업이 판매를 위해 보유하고 있는 물건들이에요.\n",
      "\n",
      "예를 들어, 슈퍼마켓의 선반에 진열된 과자나 음료수 같은 것들이 재고자산이라고 생각하면 쉬워요. 이 물건들은 나중에 팔리기 전까지는 가게의 자산으로 기록되죠.\n",
      "\n",
      "더 궁금한 점 있으시면 편하게 물어보세요!\n"
     ]
    }
   ],
   "execution_count": 13
  },
  {
   "metadata": {
    "ExecuteTime": {
     "end_time": "2025-07-17T00:18:47.908794Z",
     "start_time": "2025-07-17T00:18:18.661740Z"
    }
   },
   "cell_type": "code",
   "source": "from utils1.main import run_flexible_rag1, run_flexible_rag2, run_flexible_rag3",
   "id": "276c00b54d0d8c38",
   "outputs": [
    {
     "name": "stderr",
     "output_type": "stream",
     "text": [
      "C:\\Workspaces\\3rd_team_project\\JeongMinYoung\\utils1\\retreiver_setting.py:71: LangChainDeprecationWarning: The class `OpenAIEmbeddings` was deprecated in LangChain 0.0.9 and will be removed in 1.0. An updated version of the class exists in the :class:`~langchain-openai package and should be used instead. To use it run `pip install -U :class:`~langchain-openai` and import as `from :class:`~langchain_openai import OpenAIEmbeddings``.\n",
      "  embeddings = OpenAIEmbeddings(model=EMBEDDING_MODEL)\n"
     ]
    }
   ],
   "execution_count": 1
  },
  {
   "metadata": {
    "ExecuteTime": {
     "end_time": "2025-07-17T00:18:57.520669Z",
     "start_time": "2025-07-17T00:18:48.786153Z"
    }
   },
   "cell_type": "code",
   "source": [
    "question = \"삼성전자 2024년 재무제표 알려줘\"\n",
    "response = run_flexible_rag1(question)\n",
    "print(response)"
   ],
   "id": "3deafae2f7cabc95",
   "outputs": [
    {
     "name": "stdout",
     "output_type": "stream",
     "text": [
      "📥 financial 처리 시작\n",
      "안녕하세요! 삼성전자의 2024년 성적표를 쉽고 간단하게 알려드릴게요.\n",
      "\n",
      "**✅ 돈은 작년보다 잘 벌었나요?**\n",
      "네, 아주 잘 벌었어요!\n",
      "- **매출** (회사의 1년 총 판매금액)은 **16.2% 늘어난 3,008,709억원**을 기록했고요,\n",
      "- **영업이익** (장사해서 실제로 남긴 돈)은 무려 **398.3%나 늘어난 32,726억원**이에요. 작년보다 장사를 훨씬 잘했네요!\n",
      "\n",
      "**✅ 회사는 튼튼한가요?**\n",
      "네, 튼튼해요!\n",
      "- **자산** (회사가 가진 모든 재산)은 **12.9% 늘어난 5,145,319억원**이고요,\n",
      "- **부채** (갚아야 할 돈)는 **92,228억원**에서 **112,340억원**으로 조금 늘었지만, 자산에 비하면 아주 적은 수준이에요.\n",
      "\n",
      "**한마디로,** 삼성전자는 2024년에 돈도 훨씬 잘 벌고 회사도 더 튼튼해졌어요!\n",
      "\n",
      "더 궁금한 점 있으시면 편하게 물어보세요.\n"
     ]
    }
   ],
   "execution_count": 2
  },
  {
   "metadata": {
    "ExecuteTime": {
     "end_time": "2025-07-17T00:19:43.504470Z",
     "start_time": "2025-07-17T00:19:35.727703Z"
    }
   },
   "cell_type": "code",
   "source": [
    "question = \"삼성전자 2023년 재무제표\"\n",
    "response = run_flexible_rag2(question)\n",
    "print(response)"
   ],
   "id": "6457af5a28ccac64",
   "outputs": [
    {
     "name": "stdout",
     "output_type": "stream",
     "text": [
      "📥 financial 처리 시작\n",
      "안녕하세요! 삼성전자의 재무 데이터를 분석하여 설명해드릴게요.\n",
      "\n",
      "📊 **연도별 주요 실적**\n",
      "\n",
      "- **2023년**\n",
      "  - 영업수익: 258,935억 원\n",
      "  - 영업이익: 6,567억 원\n",
      "  - 당기순이익: 15,487억 원\n",
      "\n",
      "- **2022년**\n",
      "  - 영업수익: 302,231억 원\n",
      "  - 영업이익: 43,376억 원\n",
      "  - 당기순이익: 55,654억 원\n",
      "\n",
      "**실적 변화를 보면,**\n",
      "- 매출은 2022년 대비 2023년에 약 14.3% 감소하여 258,935억 원을 기록했습니다.\n",
      "- 영업이익은 같은 기간 약 84.9% 감소했고, 순이익은 약 72.2% 감소했습니다.\n",
      "\n",
      "📌 **요약하자면**, 매출과 수익성이 전반적으로 악화되는 흐름을 보이고 있으며, 특히 영업이익과 순이익의 큰 감소가 눈에 띕니다. 이는 비용 증가나 시장 환경의 변화 등 다양한 요인이 있을 수 있으며, 안정성 또는 미래 전망은 추가 분석이 필요할 수 있습니다.\n",
      "\n",
      "더 궁금한 항목이 있으시면 언제든지 질문해주세요!\n"
     ]
    }
   ],
   "execution_count": 4
  },
  {
   "metadata": {
    "ExecuteTime": {
     "end_time": "2025-07-17T00:20:07.168614Z",
     "start_time": "2025-07-17T00:19:53.338861Z"
    }
   },
   "cell_type": "code",
   "source": [
    "question = \"삼성전자 2022년 재무제표\"\n",
    "response = run_flexible_rag3(question)\n",
    "print(response)"
   ],
   "id": "36b07d6a9ca96992",
   "outputs": [
    {
     "name": "stdout",
     "output_type": "stream",
     "text": [
      "📥 financial 처리 시작\n",
      "안녕하십니까. 삼성전자의 재무제표를 비교 분석한 결과를 말씀드리겠습니다.\n",
      "\n",
      "먼저, 최근 2개년 재무 현황을 비교 분석한 결과입니다:\n",
      "\n",
      "**[손익 현황]**\n",
      "- **매출액**\n",
      "  - '21년: 279,604,799억원 | '22년: 302,231,360억원 | 증감: +22,626,561억원 (↑8.1%)\n",
      "  - *해석: 전반적인 사업 규모가 확장되었습니다.*\n",
      "- **매출총이익**\n",
      "  - '21년: 113,193,457억원 | '22년: 112,189,590억원 | 증감: -1,003,867억원 (↓0.9%)\n",
      "  - *해석: 매출원가 증가로 인해 매출총이익이 소폭 감소했습니다.*\n",
      "- **영업이익**\n",
      "  - '21년: 51,633,856억원 | '22년: 43,376,630억원 | 증감: -8,257,226억원 (↓16.0%)\n",
      "  - *해석: 판매비와 관리비 증가로 영업이익이 감소했습니다.*\n",
      "- **당기순이익**\n",
      "  - '21년: 39,907,450억원 | '22년: 55,654,077억원 | 증감: +15,746,627억원 (↑39.4%)\n",
      "  - *해석: 금융수익 증가와 법인세비용 감소로 순이익이 크게 증가했습니다.*\n",
      "\n",
      "**[재무 상태]**\n",
      "- **자산총계**\n",
      "  - '21년: 426,621,158억원 | '22년: 448,424,507억원 | 증감: +21,803,349억원 (↑5.1%)\n",
      "  - *해석: 기업의 전체적인 자산 규모가 꾸준히 증가하고 있습니다.*\n",
      "- **부채총계**\n",
      "  - '21년: 121,721,227억원 | '22년: 93,674,903억원 | 증감: -28,046,324억원 (↓23.0%)\n",
      "  - *해석: 부채 감소로 인해 재무 건전성이 개선되었습니다.*\n",
      "- **자본총계**\n",
      "  - '21년: 304,899,931억원 | '22년: 354,749,604억원 | 증감: +49,849,673억원 (↑16.3%)\n",
      "  - *해석: 이익 누적 등을 통해 자기자본이 크게 증가했습니다.*\n",
      "\n",
      "다음으로, 이 수치들을 바탕으로 회사의 핵심 역량을 3가지 관점에서 분석하겠습니다.\n",
      "\n",
      "- **수익성:** 2022년 영업이익률은 14.3%로, 전년(18.5%) 대비 감소했습니다. 이는 판매비와 관리비 증가로 인한 본업의 수익 창출력 약화를 의미합니다.\n",
      "- **안정성:** 부채비율은 26.4%로, 전년(39.9%) 대비 크게 감소하여 매우 안정적인 수준을 유지하고 있습니다.\n",
      "- **효율성:** ROE는 16.0%로, 주주자본을 활용한 이익 창출 효율성이 전년 대비 크게 향상되었습니다.\n",
      "\n",
      "**종합적으로,** 삼성전자는 2022년에 외형 성장과 순이익 개선을 동시에 달성하며 뛰어난 성과를 보였습니다. 부채가 크게 줄어들어 전반적인 재무 건전성은 더욱 강화되었습니다.\n",
      "\n",
      "더 궁금하신 항목이 있다면 추가로 분석해드리겠습니다.\n"
     ]
    }
   ],
   "execution_count": 5
  },
  {
   "metadata": {
    "ExecuteTime": {
     "end_time": "2025-07-16T20:54:12.521331Z",
     "start_time": "2025-07-16T20:53:58.687824Z"
    }
   },
   "cell_type": "code",
   "source": [
    "question = \"삼전 2024년 사업보고서 핵심\"\n",
    "response = run_flexible_rag3(question)\n",
    "print(response)"
   ],
   "id": "95c829e7676786f2",
   "outputs": [
    {
     "name": "stdout",
     "output_type": "stream",
     "text": [
      "📥 business 처리 시작\n"
     ]
    },
    {
     "name": "stderr",
     "output_type": "stream",
     "text": [
      "C:\\Workspaces\\3rd_team_project\\JeongMinYoung\\utils1\\handle_node.py:61: LangChainDeprecationWarning: The method `BaseRetriever.get_relevant_documents` was deprecated in langchain-core 0.1.46 and will be removed in 1.0. Use :meth:`~invoke` instead.\n",
      "  docs = self_retriever.get_relevant_documents(question)\n"
     ]
    },
    {
     "name": "stdout",
     "output_type": "stream",
     "text": [
      "안녕하십니까. 삼성전자 2024년 사업보고서에 대한 전략적 분석 결과를 말씀드리겠습니다.\n",
      "\n",
      "사업보고서를 분석한 결과, 다음과 같은 기회와 리스크 요인이 보입니다.\n",
      "\n",
      "- **기회 요인:** 삼성전자는 반도체, 디스플레이, IT & 모바일, 가전 사업 등 다양한 분야에서 강력한 포트폴리오를 보유하고 있습니다. 특히, 해외 매출이 전체 매출의 70%를 차지하고 있어 글로벌 시장에서의 성장 기회를 극대화할 수 있습니다. 또한, 신사업 진출 계획과 투자 및 확장 계획을 통해 새로운 시장을 개척할 수 있는 기회가 있습니다.\n",
      "\n",
      "- **리스크 요인:** 반면, 글로벌 시장에서의 경쟁 심화와 기술 변화는 삼성전자의 지속적인 혁신과 비용 관리에 대한 압박을 가중시킬 수 있습니다. 또한, 주요 소송 진행 상황과 경영진 변동사항은 회사의 안정성에 영향을 미칠 수 있어 주의가 필요합니다.\n",
      "\n",
      "**따라서 이 회사의 핵심 전략은** 글로벌 시장에서의 경쟁력을 강화하고, 신사업 및 기술 혁신을 통해 지속 가능한 성장을 추구하는 것으로 해석됩니다.\n",
      "\n",
      "더 상세한 리스크 분석이나 경쟁사 비교가 필요하시면 말씀해주십시오.\n"
     ]
    }
   ],
   "execution_count": 2
  },
  {
   "metadata": {
    "ExecuteTime": {
     "end_time": "2025-07-16T14:18:18.315698Z",
     "start_time": "2025-07-16T14:17:38.740878Z"
    }
   },
   "cell_type": "code",
   "source": [
    "question = \"네이버 재무제표\"\n",
    "response = run_flexible_rag1(question)\n",
    "print(response)"
   ],
   "id": "c814cc4c5dc30fe2",
   "outputs": [
    {
     "name": "stdout",
     "output_type": "stream",
     "text": [
      "📥 financial 처리 시작\n",
      "안녕하세요! 네이버의 가장 중요한 재무 데이터만 쏙쏙 알려드릴게요.\n",
      "\n",
      "**가장 최근 실적을 보면,**\n",
      "- **매출 (얼마나 팔았나):** 약 107,377억원이고요,\n",
      "- **순이익 (얼마나 남았나):** 약 19,320억원이에요.\n",
      "\n",
      "이 두 가지가 회사의 성적표에서 가장 중요한 숫자랍니다! 더 궁금한 점 있으시면 편하게 물어보세요!\n"
     ]
    }
   ],
   "execution_count": 14
  },
  {
   "metadata": {
    "ExecuteTime": {
     "end_time": "2025-07-16T14:18:35.650297Z",
     "start_time": "2025-07-16T14:18:31.830484Z"
    }
   },
   "cell_type": "code",
   "source": [
    "question = \"kakao 2024년 재무제표\"\n",
    "response = run_flexible_rag2(question)\n",
    "print(response)"
   ],
   "id": "22ffc23ae6b0f7c0",
   "outputs": [
    {
     "name": "stdout",
     "output_type": "stream",
     "text": [
      "📥 financial 처리 시작\n",
      "\"요청하신 연도의 재무제표 데이터가 제공되지 않아 분석이 어렵습니다.\"\n"
     ]
    }
   ],
   "execution_count": 16
  },
  {
   "metadata": {
    "ExecuteTime": {
     "end_time": "2025-07-16T20:04:14.642674Z",
     "start_time": "2025-07-16T20:04:08.754405Z"
    }
   },
   "cell_type": "code",
   "source": [
    "question = \"네이비 2023년 재무제표\"\n",
    "response = run_flexible_rag3(question)\n",
    "print(response)"
   ],
   "id": "31177240a5555a1c",
   "outputs": [
    {
     "name": "stdout",
     "output_type": "stream",
     "text": [
      "📥 financial 처리 시작\n",
      "\"요청하신 연도의 재무제표 데이터가 제공되지 않아 분석이 어렵습니다.\"\n"
     ]
    }
   ],
   "execution_count": 4
  },
  {
   "metadata": {
    "ExecuteTime": {
     "end_time": "2025-07-17T00:26:54.613252Z",
     "start_time": "2025-07-17T00:26:53.048499Z"
    }
   },
   "cell_type": "code",
   "source": [
    "question = \"오늘 뭐 하지?\"\n",
    "response = run_flexible_rag1(question)\n",
    "print(response)"
   ],
   "id": "8060a4e8441b475e",
   "outputs": [
    {
     "name": "stdout",
     "output_type": "stream",
     "text": [
      "일반 질문\n",
      "해당 내용은 제가 알지 못하는 분야입니다.\n"
     ]
    }
   ],
   "execution_count": 14
  },
  {
   "metadata": {
    "ExecuteTime": {
     "end_time": "2025-07-17T00:27:18.913026Z",
     "start_time": "2025-07-17T00:27:17.642911Z"
    }
   },
   "cell_type": "code",
   "source": [
    "question = \"오늘 뭐 하지?\"\n",
    "response = run_flexible_rag2(question)\n",
    "print(response)"
   ],
   "id": "a27190f1cb2c23ff",
   "outputs": [
    {
     "name": "stdout",
     "output_type": "stream",
     "text": [
      "일반 질문\n",
      "해당 내용은 제가 알지 못하는 분야입니다.\n"
     ]
    }
   ],
   "execution_count": 15
  },
  {
   "metadata": {
    "ExecuteTime": {
     "end_time": "2025-07-17T00:27:21.193924Z",
     "start_time": "2025-07-17T00:27:19.827976Z"
    }
   },
   "cell_type": "code",
   "source": [
    "question = \"오늘 뭐 하지?\"\n",
    "response = run_flexible_rag3(question)\n",
    "print(response)"
   ],
   "id": "51becfbaaf0a6cf8",
   "outputs": [
    {
     "name": "stdout",
     "output_type": "stream",
     "text": [
      "일반 질문\n",
      "해당 내용은 제가 알지 못하는 분야입니다.\n"
     ]
    }
   ],
   "execution_count": 16
  },
  {
   "metadata": {
    "ExecuteTime": {
     "end_time": "2025-07-16T07:33:29.615183Z",
     "start_time": "2025-07-16T07:33:21.380464Z"
    }
   },
   "cell_type": "code",
   "source": [
    "from utils1.retreiver_setting import faiss_retriever_loading\n",
    "\n",
    "account_retriever, business_retriever, business_retriever2, self_retriever = faiss_retriever_loading()\n",
    "\n",
    "# self_retriever.invoke('삼성바이오 2024년 핵심 보고서')\n",
    "\n"
   ],
   "id": "c41eabcf98dbd001",
   "outputs": [],
   "execution_count": 3
  },
  {
   "metadata": {
    "ExecuteTime": {
     "end_time": "2025-07-16T20:04:04.684520Z",
     "start_time": "2025-07-16T20:04:04.239715Z"
    }
   },
   "cell_type": "code",
   "source": "account_retriever.invoke('회계 기준 사업')",
   "id": "7ae10e006983ab4f",
   "outputs": [
    {
     "ename": "NameError",
     "evalue": "name 'account_retriever' is not defined",
     "output_type": "error",
     "traceback": [
      "\u001B[31m---------------------------------------------------------------------------\u001B[39m",
      "\u001B[31mNameError\u001B[39m                                 Traceback (most recent call last)",
      "\u001B[36mCell\u001B[39m\u001B[36m \u001B[39m\u001B[32mIn[3]\u001B[39m\u001B[32m, line 1\u001B[39m\n\u001B[32m----> \u001B[39m\u001B[32m1\u001B[39m \u001B[43maccount_retriever\u001B[49m.invoke(\u001B[33m'\u001B[39m\u001B[33m회계 기준 사업\u001B[39m\u001B[33m'\u001B[39m)\n",
      "\u001B[31mNameError\u001B[39m: name 'account_retriever' is not defined"
     ]
    }
   ],
   "execution_count": 3
  },
  {
   "metadata": {
    "ExecuteTime": {
     "end_time": "2025-07-16T00:55:35.752846Z",
     "start_time": "2025-07-16T00:55:35.743029Z"
    }
   },
   "cell_type": "code",
   "source": [
    "queries_and_answers = [\n",
    "    (\"삼성바이오로직스 2024년 연결 당기순이익\", [\"삼성바이오로직스\", \"2024\", \"연결\", \"당기순이익\"]),\n",
    "    (\"2024년 LG전자 연구개발 활동\", [\"2024\", \"LG전자\", \"연구개발\"]),\n",
    "    (\"2023년 카카오 주요사항 요약\", [\"2023\", \"카카오\", \"주요사항\"]),\n",
    "    (\"NAVER 2024년 EPS는 얼마야?\", [\"NAVER\", \"2024\", \"주당순이익\"]),\n",
    "    (\"SK하이닉스 2023년 배당금 정보 알려줘\", [\"SK하이닉스\", \"2023\", \"배당금\"]),\n",
    "    (\"현대차 2024년 주당액면가액은?\", [\"현대차\", \"2024\", \"주당액면가액\"]),\n",
    "    (\"LG화학의 2022년 현금배당 내역\", [\"LG화학\", \"2022\", \"현금배당\"]),\n",
    "    (\"카카오 2024년 연구개발 투자 비율은?\", [\"카카오\", \"2024\", \"연구개발\", \"투자\", \"비율\"]),\n",
    "    (\"삼성전자 2023년 주요사항 정리해줘\", [\"삼성전자\", \"2023\", \"주요사항\"]),\n",
    "    (\"NAVER 2024년 연결 실적\", [\"NAVER\", \"2024\", \"연결\"]),\n",
    "    (\"LG에너지솔루션의 2023년 EPS\", [\"LG에너지솔루션\", \"2023\", \"주당순이익\"]),\n",
    "    (\"SK이노베이션 2024년 주식배당 수익률\", [\"SK이노베이션\", \"2024\", \"주식배당수익률\"]),\n",
    "    (\"2024년 현대모비스의 연구개발 성과\", [\"현대모비스\", \"2024\", \"연구개발\", \"성과\"]),\n",
    "    (\"카카오 2022년 별도 재무성과\", [\"카카오\", \"2022\", \"별도\"]),\n",
    "    (\"삼성바이오로직스의 2024년 R&D 투자\", [\"삼성바이오로직스\", \"2024\", \"연구개발\", \"투자\"]),\n",
    "]\n"
   ],
   "id": "4640cf8da6543483",
   "outputs": [],
   "execution_count": 6
  },
  {
   "metadata": {
    "ExecuteTime": {
     "end_time": "2025-07-16T00:59:59.133874Z",
     "start_time": "2025-07-16T00:58:35.389969Z"
    }
   },
   "cell_type": "code",
   "source": [
    "from difflib import SequenceMatcher\n",
    "\n",
    "\n",
    "def evaluate_similarity_score(retriever, queries_and_answers):\n",
    "    scores = []\n",
    "    for query, expected_keywords in queries_and_answers:\n",
    "        docs = retriever.invoke(query)\n",
    "        all_text = \" \".join([doc.page_content for doc in docs])\n",
    "        score = sum(SequenceMatcher(None, all_text, kw).ratio() for kw in expected_keywords)\n",
    "        scores.append(score / len(expected_keywords))  # 평균 유사도\n",
    "    return sum(scores) / len(scores)  # 전체 평균\n",
    "\n",
    "\n",
    "def evaluate_contains_score(retriever, queries_and_answers):\n",
    "    scores = []\n",
    "    for query, expected_keywords in queries_and_answers:\n",
    "        docs = retriever.invoke(query)\n",
    "        all_text = \" \".join([doc.page_content for doc in docs])\n",
    "        hit_count = sum(1 for kw in expected_keywords if kw in all_text)\n",
    "        scores.append(hit_count / len(expected_keywords))  # 포함된 키워드 비율\n",
    "    return sum(scores) / len(scores)  # 전체 평균\n",
    "\n",
    "\n",
    "score1_sim = evaluate_similarity_score(business_retriever2, queries_and_answers)\n",
    "score1_contain = evaluate_contains_score(business_retriever2, queries_and_answers)\n",
    "\n",
    "score2_sim = evaluate_similarity_score(self_retriever, queries_and_answers)\n",
    "score2_contain = evaluate_contains_score(self_retriever, queries_and_answers)\n",
    "\n",
    "score3_sim = evaluate_similarity_score(business_retriever, queries_and_answers)\n",
    "score3_contain = evaluate_contains_score(business_retriever, queries_and_answers)\n",
    "\n",
    "print(f\"📊 [No Metadata 필터]\")\n",
    "print(f\" - 유사도 평가 점수: {score1_sim:.3f}\")\n",
    "print(f\" - 키워드 포함 점수: {score1_contain:.3f}\")\n",
    "\n",
    "print(f\"📊 [With Metadata 필터]\")\n",
    "print(f\" - 유사도 평가 점수: {score2_sim:.3f}\")\n",
    "print(f\" - 키워드 포함 점수: {score2_contain:.3f}\")\n",
    "\n",
    "print(f\"📊 [FAISS No Metadata 필터]\")\n",
    "print(f\" - 유사도 평가 점수: {score3_sim:.3f}\")\n",
    "print(f\" - 키워드 포함 점수: {score3_contain:.3f}\")"
   ],
   "id": "76639c2cfb272ee3",
   "outputs": [
    {
     "name": "stdout",
     "output_type": "stream",
     "text": [
      "📊 [No Metadata 필터]\n",
      " - 유사도 평가 점수: 0.004\n",
      " - 키워드 포함 점수: 0.764\n",
      "📊 [With Metadata 필터]\n",
      " - 유사도 평가 점수: 0.004\n",
      " - 키워드 포함 점수: 0.698\n",
      "📊 [FAISS No Metadata 필터]\n",
      " - 유사도 평가 점수: 0.002\n",
      " - 키워드 포함 점수: 0.718\n"
     ]
    }
   ],
   "execution_count": 8
  },
  {
   "metadata": {
    "ExecuteTime": {
     "end_time": "2025-07-16T00:53:12.734228Z",
     "start_time": "2025-07-16T00:53:11.034353Z"
    }
   },
   "cell_type": "code",
   "source": [
    "relevent_docs = business_retriever2.invoke('2024년 삼성전자 사업  ')\n",
    "relevent_docs"
   ],
   "id": "c80ec8f02eb37ff9",
   "outputs": [
    {
     "data": {
      "text/plain": [
       "[Document(id='7c832bb3-8940-4cd5-b282-3a80972bdd5b', metadata={'content_type': 'company_overview', 'corp_code': '00126380', 'corp_name': '삼성전자', 'section': '기업개요', 'source': 'business_report', 'year': '2024'}, page_content='삼성전자 기업개요 (2024년 기준)\\n                기업명: 삼성전자\\n                기업코드: 00126380\\n                연도: 2024년\\n                주요 사업: 전자제품 제조 및 판매\\n                사업분야: 반도체, 디스플레이, 모바일 등'),\n",
       " Document(id='85bae278-eaec-4b61-a54c-74a3384e27ec', metadata={'content_type': 'business_content', 'corp_code': '00126229', 'corp_name': '삼성물산', 'section': '사업의 내용', 'source': 'business_report', 'year': '2024'}, page_content='삼성물산 2024년 사업의 내용\\n                주요 사업 분야: \\n                - 반도체 사업: 메모리 반도체, 시스템 반도체 제조\\n                - 디스플레이 사업: OLED, LCD 패널 제조\\n                - IT & 모바일 사업: 스마트폰, 태블릿 제조\\n                - 가전 사업: 냉장고, 세탁기, 에어컨 제조\\n                \\n                매출 구성:\\n                - 국내 매출: 전체 매출의 30%\\n                - 해외 매출: 전체 매출의 70%\\n                \\n                주요 제품 및 서비스:\\n                - 메모리 반도체 (DRAM, NAND Flash)\\n                - 모바일 프로세서 (Exynos)\\n                - 스마트폰 (Galaxy 시리즈)\\n                - 디스플레이 패널'),\n",
       " Document(id='28d1691f-2834-4232-84f7-642109feebe5', metadata={'content_type': 'business_content', 'corp_code': '00126380', 'corp_name': '삼성전자', 'section': '사업의 내용', 'source': 'business_report', 'year': '2022'}, page_content='삼성전자 2022년 사업의 내용\\n                주요 사업 분야: \\n                - 반도체 사업: 메모리 반도체, 시스템 반도체 제조\\n                - 디스플레이 사업: OLED, LCD 패널 제조\\n                - IT & 모바일 사업: 스마트폰, 태블릿 제조\\n                - 가전 사업: 냉장고, 세탁기, 에어컨 제조\\n                \\n                매출 구성:\\n                - 국내 매출: 전체 매출의 30%\\n                - 해외 매출: 전체 매출의 70%\\n                \\n                주요 제품 및 서비스:\\n                - 메모리 반도체 (DRAM, NAND Flash)\\n                - 모바일 프로세서 (Exynos)\\n                - 스마트폰 (Galaxy 시리즈)\\n                - 디스플레이 패널'),\n",
       " Document(id='977948c5-9e9f-4ed0-9f23-c8d9ab0e7823', metadata={'account_id': 'dart_OperatingIncomeLoss', 'account_nm': '영업이익', 'category': '재무제표', 'corp_code': '126380', 'corp_name': '삼성전자', 'currency': 'KRW', 'item': '영업이익', 'rcept_no': '20250311001085', 'section': '재무지표', 'source': 'csv', 'year': '2024'}, page_content='삼성전자 2024년 영업이익\\n                        - 금액: 32725961000000원\\n                        - 기간: 제제 56 기\\n                        - 이전년도: 6566976000000.0원 (제제 55 기)\\n                        - 전전년도: 43376630000000.0원 (제제 54 기)\\n                        - 통화: KRW\\n                        - 계정과목: 영업이익\\n                        - 계정코드: dart_OperatingIncomeLoss'),\n",
       " Document(id='c3283184-7aa6-4f7f-939f-58e99f6d5b8a', metadata={'content_type': 'key_matters', 'corp_code': '00126380', 'corp_name': '삼성전자', 'section': '주요사항', 'source': 'business_report', 'year': '2024'}, page_content='삼성전자 2024년 주요사항\\n                    항목: (연결)주당순이익(원)\\n                    당기: 4,950\\n                    전기: 2,131\\n                    전전기: 8,057'),\n",
       " Document(id='5ae88ecb-8645-48e4-87c2-5bc71c7049b9', metadata={'account_id': 'ifrs-full_GrossProfit', 'account_nm': '매출총이익', 'category': '재무제표', 'corp_code': '126380', 'corp_name': '삼성전자', 'currency': 'KRW', 'item': '매출총이익', 'rcept_no': '20250311001085', 'section': '재무지표', 'source': 'csv', 'year': '2024'}, page_content='삼성전자 2024년 매출총이익\\n                        - 금액: 114308635000000원\\n                        - 기간: 제제 56 기\\n                        - 이전년도: 78546914000000.0원 (제제 55 기)\\n                        - 전전년도: 112189590000000.0원 (제제 54 기)\\n                        - 통화: KRW\\n                        - 계정과목: 매출총이익\\n                        - 계정코드: ifrs-full_GrossProfit'),\n",
       " Document(id='bb7e750d-59b3-4dc1-9685-f64b6dde13b8', metadata={'content_type': 'key_matters', 'corp_code': '00126380', 'corp_name': '삼성전자', 'section': '주요사항', 'source': 'business_report', 'year': '2024'}, page_content='삼성전자 2024년 주요사항\\n                    항목: 주식배당수익률(%)\\n                    당기: -\\n                    전기: -\\n                    전전기: -'),\n",
       " Document(id='67d78a04-a1b9-4156-9006-29de31dfbdd0', metadata={'content_type': 'key_matters', 'corp_code': '00126380', 'corp_name': '삼성전자', 'section': '주요사항', 'source': 'business_report', 'year': '2024'}, page_content='삼성전자 2024년 주요사항\\n                    항목: 주식배당수익률(%)\\n                    당기: -\\n                    전기: -\\n                    전전기: -'),\n",
       " Document(id='f315bc0c-2d39-4c0a-8463-c321a0df5dc1', metadata={'account_id': 'ifrs-full_CostOfSales', 'account_nm': '매출원가', 'category': '재무제표', 'corp_code': '126380', 'corp_name': '삼성전자', 'currency': 'KRW', 'item': '매출원가', 'rcept_no': '20250311001085', 'section': '재무지표', 'source': 'csv', 'year': '2024'}, page_content='삼성전자 2024년 매출원가\\n                        - 금액: 186562268000000원\\n                        - 기간: 제제 56 기\\n                        - 이전년도: 180388580000000.0원 (제제 55 기)\\n                        - 전전년도: 190041770000000.0원 (제제 54 기)\\n                        - 통화: KRW\\n                        - 계정과목: 매출원가\\n                        - 계정코드: ifrs-full_CostOfSales'),\n",
       " Document(id='5580465c-159a-4604-b3d5-cabb4fa274e0', metadata={'content_type': 'company_overview', 'corp_code': '00126380', 'corp_name': '삼성전자', 'section': '기업개요', 'source': 'business_report', 'year': '2023'}, page_content='삼성전자 기업개요 (2023년 기준)\\n                기업명: 삼성전자\\n                기업코드: 00126380\\n                연도: 2023년\\n                주요 사업: 전자제품 제조 및 판매\\n                사업분야: 반도체, 디스플레이, 모바일 등')]"
      ]
     },
     "execution_count": 5,
     "metadata": {},
     "output_type": "execute_result"
    }
   ],
   "execution_count": 5
  },
  {
   "metadata": {
    "ExecuteTime": {
     "end_time": "2025-07-16T00:44:12.345060Z",
     "start_time": "2025-07-16T00:44:09.353303Z"
    }
   },
   "cell_type": "code",
   "source": [
    "relevent_docs = self_retriever.invoke('2024년 삼성전자 사업 ')\n",
    "relevent_docs"
   ],
   "id": "6b431293b92da66d",
   "outputs": [
    {
     "data": {
      "text/plain": [
       "[Document(id='7c832bb3-8940-4cd5-b282-3a80972bdd5b', metadata={'content_type': 'company_overview', 'corp_code': '00126380', 'corp_name': '삼성전자', 'section': '기업개요', 'source': 'business_report', 'year': '2024'}, page_content='삼성전자 기업개요 (2024년 기준)\\n                기업명: 삼성전자\\n                기업코드: 00126380\\n                연도: 2024년\\n                주요 사업: 전자제품 제조 및 판매\\n                사업분야: 반도체, 디스플레이, 모바일 등'),\n",
       " Document(id='977948c5-9e9f-4ed0-9f23-c8d9ab0e7823', metadata={'account_id': 'dart_OperatingIncomeLoss', 'account_nm': '영업이익', 'category': '재무제표', 'corp_code': '126380', 'corp_name': '삼성전자', 'currency': 'KRW', 'item': '영업이익', 'rcept_no': '20250311001085', 'section': '재무지표', 'source': 'csv', 'year': '2024'}, page_content='삼성전자 2024년 영업이익\\n                        - 금액: 32725961000000원\\n                        - 기간: 제제 56 기\\n                        - 이전년도: 6566976000000.0원 (제제 55 기)\\n                        - 전전년도: 43376630000000.0원 (제제 54 기)\\n                        - 통화: KRW\\n                        - 계정과목: 영업이익\\n                        - 계정코드: dart_OperatingIncomeLoss'),\n",
       " Document(id='d67cc42b-6893-45a5-99da-7172aecc4a84', metadata={'content_type': 'research_development', 'corp_code': '00126380', 'corp_name': '삼성전자', 'section': '연구개발 활동', 'source': 'business_report', 'year': '2024'}, page_content='삼성전자 2024년 연구개발 활동\\n                연구개발 투자:\\n                - 연구개발비: 전년 대비 증가\\n                - 매출액 대비 연구개발비 비율: 8.5%\\n                - 연구개발 인력: 전체 임직원의 25%\\n                \\n                주요 연구개발 분야:\\n                - 차세대 반도체 기술\\n                - 인공지능 및 머신러닝\\n                - 5G/6G 통신 기술\\n                - 친환경 기술\\n                \\n                연구개발 성과:\\n                - 특허 출원: 연간 1,000건 이상\\n                - 국제 표준화 참여\\n                - 산학협력 프로젝트 수행'),\n",
       " Document(id='5ae88ecb-8645-48e4-87c2-5bc71c7049b9', metadata={'account_id': 'ifrs-full_GrossProfit', 'account_nm': '매출총이익', 'category': '재무제표', 'corp_code': '126380', 'corp_name': '삼성전자', 'currency': 'KRW', 'item': '매출총이익', 'rcept_no': '20250311001085', 'section': '재무지표', 'source': 'csv', 'year': '2024'}, page_content='삼성전자 2024년 매출총이익\\n                        - 금액: 114308635000000원\\n                        - 기간: 제제 56 기\\n                        - 이전년도: 78546914000000.0원 (제제 55 기)\\n                        - 전전년도: 112189590000000.0원 (제제 54 기)\\n                        - 통화: KRW\\n                        - 계정과목: 매출총이익\\n                        - 계정코드: ifrs-full_GrossProfit'),\n",
       " Document(id='f315bc0c-2d39-4c0a-8463-c321a0df5dc1', metadata={'account_id': 'ifrs-full_CostOfSales', 'account_nm': '매출원가', 'category': '재무제표', 'corp_code': '126380', 'corp_name': '삼성전자', 'currency': 'KRW', 'item': '매출원가', 'rcept_no': '20250311001085', 'section': '재무지표', 'source': 'csv', 'year': '2024'}, page_content='삼성전자 2024년 매출원가\\n                        - 금액: 186562268000000원\\n                        - 기간: 제제 56 기\\n                        - 이전년도: 180388580000000.0원 (제제 55 기)\\n                        - 전전년도: 190041770000000.0원 (제제 54 기)\\n                        - 통화: KRW\\n                        - 계정과목: 매출원가\\n                        - 계정코드: ifrs-full_CostOfSales'),\n",
       " Document(id='6c53305f-f555-4cdd-b8bd-51537fe78017', metadata={'content_type': 'company_overview', 'corp_code': '00126256', 'corp_name': '삼성생명', 'section': '기업개요', 'source': 'business_report', 'year': '2024'}, page_content='삼성생명 기업개요 (2024년 기준)\\n                기업명: 삼성생명\\n                기업코드: 00126256\\n                연도: 2024년\\n                주요 사업: 전자제품 제조 및 판매\\n                사업분야: 반도체, 디스플레이, 모바일 등'),\n",
       " Document(id='c3283184-7aa6-4f7f-939f-58e99f6d5b8a', metadata={'content_type': 'key_matters', 'corp_code': '00126380', 'corp_name': '삼성전자', 'section': '주요사항', 'source': 'business_report', 'year': '2024'}, page_content='삼성전자 2024년 주요사항\\n                    항목: (연결)주당순이익(원)\\n                    당기: 4,950\\n                    전기: 2,131\\n                    전전기: 8,057'),\n",
       " Document(id='89641a29-8ae9-4edc-8cca-1215dd0ceece', metadata={'content_type': 'key_matters', 'corp_code': '00126380', 'corp_name': '삼성전자', 'section': '주요사항', 'source': 'business_report', 'year': '2024'}, page_content='삼성전자 2024년 주요사항\\n                    항목: 현금배당수익률(%)\\n                    당기: 2.70\\n                    전기: 1.90\\n                    전전기: 2.50'),\n",
       " Document(id='67d78a04-a1b9-4156-9006-29de31dfbdd0', metadata={'content_type': 'key_matters', 'corp_code': '00126380', 'corp_name': '삼성전자', 'section': '주요사항', 'source': 'business_report', 'year': '2024'}, page_content='삼성전자 2024년 주요사항\\n                    항목: 주식배당수익률(%)\\n                    당기: -\\n                    전기: -\\n                    전전기: -'),\n",
       " Document(id='bb7e750d-59b3-4dc1-9685-f64b6dde13b8', metadata={'content_type': 'key_matters', 'corp_code': '00126380', 'corp_name': '삼성전자', 'section': '주요사항', 'source': 'business_report', 'year': '2024'}, page_content='삼성전자 2024년 주요사항\\n                    항목: 주식배당수익률(%)\\n                    당기: -\\n                    전기: -\\n                    전전기: -')]"
      ]
     },
     "execution_count": 3,
     "metadata": {},
     "output_type": "execute_result"
    }
   ],
   "execution_count": 3
  },
  {
   "metadata": {
    "ExecuteTime": {
     "end_time": "2025-07-15T15:39:29.420475Z",
     "start_time": "2025-07-15T15:39:28.156901Z"
    }
   },
   "cell_type": "code",
   "source": [
    "# 쿼리 생성기에 직접 접근\n",
    "query_constructor = self_retriever.query_constructor\n",
    "\n",
    "# 사용자 쿼리를 구조화된 쿼리로 변환\n",
    "user_query = \"삼성전자 기업의 2022년부터 2024년까지의 핵심 보고서\"\n",
    "structured_query = query_constructor.invoke({\"query\": user_query})\n",
    "\n",
    "print(\"원본 쿼리:\", user_query)\n",
    "print(\"변환된 쿼리:\", structured_query)"
   ],
   "id": "3a6d3a1e55b2c720",
   "outputs": [
    {
     "name": "stdout",
     "output_type": "stream",
     "text": [
      "원본 쿼리: 삼성전자 기업의 2022년부터 2024년까지의 핵심 보고서\n",
      "변환된 쿼리: query='삼성전자 핵심 보고서' filter=Operation(operator=<Operator.AND: 'and'>, arguments=[Comparison(comparator=<Comparator.GTE: 'gte'>, attribute='year', value='2022'), Comparison(comparator=<Comparator.LTE: 'lte'>, attribute='year', value='2024')]) limit=None\n"
     ]
    }
   ],
   "execution_count": 5
  },
  {
   "metadata": {
    "ExecuteTime": {
     "end_time": "2025-07-15T16:22:00.623907Z",
     "start_time": "2025-07-15T16:21:59.106592Z"
    }
   },
   "cell_type": "code",
   "source": [
    "relevent_docs2 = business_retriever2.invoke('삼성바이오 2024년 핵심 보고서', k=10)\n",
    "len(relevent_docs2)"
   ],
   "id": "fd8f222190425e3a",
   "outputs": [
    {
     "data": {
      "text/plain": [
       "10"
      ]
     },
     "execution_count": 19,
     "metadata": {},
     "output_type": "execute_result"
    }
   ],
   "execution_count": 19
  },
  {
   "metadata": {
    "ExecuteTime": {
     "end_time": "2025-07-15T16:22:04.747562Z",
     "start_time": "2025-07-15T16:22:04.741880Z"
    }
   },
   "cell_type": "code",
   "source": "relevent_docs2",
   "id": "6f8de6a9a1e4ead",
   "outputs": [
    {
     "data": {
      "text/plain": [
       "[Document(id='b7c74045-1218-4752-b69d-c94058a66722', metadata={'content_type': 'key_matters', 'corp_code': '00877059', 'corp_name': '삼성바이오로직스', 'section': '주요사항', 'source': 'business_report', 'year': '2024'}, page_content='삼성바이오로직스 2024년 주요사항\\n                    항목: 주식배당금총액(백만원)\\n                    당기: -\\n                    전기: -\\n                    전전기: -'),\n",
       " Document(id='12ab6704-8d21-4a24-b3f5-26ac1d6a1fce', metadata={'content_type': 'key_matters', 'corp_code': '00877059', 'corp_name': '삼성바이오로직스', 'section': '주요사항', 'source': 'business_report', 'year': '2024'}, page_content='삼성바이오로직스 2024년 주요사항\\n                    항목: 현금배당금총액(백만원)\\n                    당기: -\\n                    전기: -\\n                    전전기: -'),\n",
       " Document(id='dc2e2309-cb52-4bee-a0d3-d4809db4bd74', metadata={'content_type': 'key_matters', 'corp_code': '00877059', 'corp_name': '삼성바이오로직스', 'section': '주요사항', 'source': 'business_report', 'year': '2024'}, page_content='삼성바이오로직스 2024년 주요사항\\n                    항목: (별도)당기순이익(백만원)\\n                    당기: 1,050,967\\n                    전기: 945,920\\n                    전전기: 686,793'),\n",
       " Document(id='7da4191c-96c6-4e56-97be-c2902957271a', metadata={'content_type': 'key_matters', 'corp_code': '00877059', 'corp_name': '삼성바이오로직스', 'section': '주요사항', 'source': 'business_report', 'year': '2024'}, page_content='삼성바이오로직스 2024년 주요사항\\n                    항목: (연결)당기순이익(백만원)\\n                    당기: 1,083,316\\n                    전기: 857,691\\n                    전전기: 798,056'),\n",
       " Document(id='1354c78a-c0a2-4e73-85a8-e20528f57c5d', metadata={'content_type': 'research_development', 'corp_code': '00877059', 'corp_name': '삼성바이오로직스', 'section': '연구개발 활동', 'source': 'business_report', 'year': '2024'}, page_content='삼성바이오로직스 2024년 연구개발 활동\\n                연구개발 투자:\\n                - 연구개발비: 전년 대비 증가\\n                - 매출액 대비 연구개발비 비율: 8.5%\\n                - 연구개발 인력: 전체 임직원의 25%\\n                \\n                주요 연구개발 분야:\\n                - 차세대 반도체 기술\\n                - 인공지능 및 머신러닝\\n                - 5G/6G 통신 기술\\n                - 친환경 기술\\n                \\n                연구개발 성과:\\n                - 특허 출원: 연간 1,000건 이상\\n                - 국제 표준화 참여\\n                - 산학협력 프로젝트 수행'),\n",
       " Document(id='c576e64b-909b-4b60-abdd-c2c498c10e56', metadata={'content_type': 'key_matters', 'corp_code': '00877059', 'corp_name': '삼성바이오로직스', 'section': '주요사항', 'source': 'business_report', 'year': '2024'}, page_content='삼성바이오로직스 2024년 주요사항\\n                    항목: 주식배당수익률(%)\\n                    당기: -\\n                    전기: -\\n                    전전기: -'),\n",
       " Document(id='bb08ec3e-604e-4362-b472-b9d92570644e', metadata={'content_type': 'key_matters', 'corp_code': '00877059', 'corp_name': '삼성바이오로직스', 'section': '주요사항', 'source': 'business_report', 'year': '2024'}, page_content='삼성바이오로직스 2024년 주요사항\\n                    항목: 주식배당수익률(%)\\n                    당기: -\\n                    전기: -\\n                    전전기: -'),\n",
       " Document(id='305fdd9d-cf21-44f4-9f78-0c8d14b4ac44', metadata={'content_type': 'key_matters', 'corp_code': '00877059', 'corp_name': '삼성바이오로직스', 'section': '주요사항', 'source': 'business_report', 'year': '2024'}, page_content='삼성바이오로직스 2024년 주요사항\\n                    항목: 주당 주식배당(주)\\n                    당기: -\\n                    전기: -\\n                    전전기: -'),\n",
       " Document(id='1d8185ec-74d1-4772-a5ae-8d6d264676b6', metadata={'content_type': 'key_matters', 'corp_code': '00877059', 'corp_name': '삼성바이오로직스', 'section': '주요사항', 'source': 'business_report', 'year': '2024'}, page_content='삼성바이오로직스 2024년 주요사항\\n                    항목: 주당 주식배당(주)\\n                    당기: -\\n                    전기: -\\n                    전전기: -'),\n",
       " Document(id='ab531baf-2229-4f2b-8bc6-b6b52b0ced22', metadata={'content_type': 'key_matters', 'corp_code': '00877059', 'corp_name': '삼성바이오로직스', 'section': '주요사항', 'source': 'business_report', 'year': '2024'}, page_content='삼성바이오로직스 2024년 주요사항\\n                    항목: (연결)현금배당성향(%)\\n                    당기: -\\n                    전기: -\\n                    전전기: -')]"
      ]
     },
     "execution_count": 20,
     "metadata": {},
     "output_type": "execute_result"
    }
   ],
   "execution_count": 20
  },
  {
   "metadata": {
    "ExecuteTime": {
     "end_time": "2025-07-15T14:26:35.079356Z",
     "start_time": "2025-07-15T14:26:35.071418Z"
    }
   },
   "cell_type": "code",
   "source": "relevent_docs2",
   "id": "bf683e2199dc11de",
   "outputs": [
    {
     "data": {
      "text/plain": [
       "[Document(id='b7c74045-1218-4752-b69d-c94058a66722', metadata={'content_type': 'key_matters', 'corp_code': '00877059', 'corp_name': '삼성바이오로직스', 'section': '주요사항', 'source': 'business_report', 'year': '2024'}, page_content='삼성바이오로직스 2024년 주요사항\\n                    항목: 주식배당금총액(백만원)\\n                    당기: -\\n                    전기: -\\n                    전전기: -'),\n",
       " Document(id='12ab6704-8d21-4a24-b3f5-26ac1d6a1fce', metadata={'content_type': 'key_matters', 'corp_code': '00877059', 'corp_name': '삼성바이오로직스', 'section': '주요사항', 'source': 'business_report', 'year': '2024'}, page_content='삼성바이오로직스 2024년 주요사항\\n                    항목: 현금배당금총액(백만원)\\n                    당기: -\\n                    전기: -\\n                    전전기: -'),\n",
       " Document(id='dc2e2309-cb52-4bee-a0d3-d4809db4bd74', metadata={'content_type': 'key_matters', 'corp_code': '00877059', 'corp_name': '삼성바이오로직스', 'section': '주요사항', 'source': 'business_report', 'year': '2024'}, page_content='삼성바이오로직스 2024년 주요사항\\n                    항목: (별도)당기순이익(백만원)\\n                    당기: 1,050,967\\n                    전기: 945,920\\n                    전전기: 686,793'),\n",
       " Document(id='7da4191c-96c6-4e56-97be-c2902957271a', metadata={'content_type': 'key_matters', 'corp_code': '00877059', 'corp_name': '삼성바이오로직스', 'section': '주요사항', 'source': 'business_report', 'year': '2024'}, page_content='삼성바이오로직스 2024년 주요사항\\n                    항목: (연결)당기순이익(백만원)\\n                    당기: 1,083,316\\n                    전기: 857,691\\n                    전전기: 798,056'),\n",
       " Document(id='1354c78a-c0a2-4e73-85a8-e20528f57c5d', metadata={'content_type': 'research_development', 'corp_code': '00877059', 'corp_name': '삼성바이오로직스', 'section': '연구개발 활동', 'source': 'business_report', 'year': '2024'}, page_content='삼성바이오로직스 2024년 연구개발 활동\\n                연구개발 투자:\\n                - 연구개발비: 전년 대비 증가\\n                - 매출액 대비 연구개발비 비율: 8.5%\\n                - 연구개발 인력: 전체 임직원의 25%\\n                \\n                주요 연구개발 분야:\\n                - 차세대 반도체 기술\\n                - 인공지능 및 머신러닝\\n                - 5G/6G 통신 기술\\n                - 친환경 기술\\n                \\n                연구개발 성과:\\n                - 특허 출원: 연간 1,000건 이상\\n                - 국제 표준화 참여\\n                - 산학협력 프로젝트 수행'),\n",
       " Document(id='c576e64b-909b-4b60-abdd-c2c498c10e56', metadata={'content_type': 'key_matters', 'corp_code': '00877059', 'corp_name': '삼성바이오로직스', 'section': '주요사항', 'source': 'business_report', 'year': '2024'}, page_content='삼성바이오로직스 2024년 주요사항\\n                    항목: 주식배당수익률(%)\\n                    당기: -\\n                    전기: -\\n                    전전기: -'),\n",
       " Document(id='bb08ec3e-604e-4362-b472-b9d92570644e', metadata={'content_type': 'key_matters', 'corp_code': '00877059', 'corp_name': '삼성바이오로직스', 'section': '주요사항', 'source': 'business_report', 'year': '2024'}, page_content='삼성바이오로직스 2024년 주요사항\\n                    항목: 주식배당수익률(%)\\n                    당기: -\\n                    전기: -\\n                    전전기: -'),\n",
       " Document(id='1d8185ec-74d1-4772-a5ae-8d6d264676b6', metadata={'content_type': 'key_matters', 'corp_code': '00877059', 'corp_name': '삼성바이오로직스', 'section': '주요사항', 'source': 'business_report', 'year': '2024'}, page_content='삼성바이오로직스 2024년 주요사항\\n                    항목: 주당 주식배당(주)\\n                    당기: -\\n                    전기: -\\n                    전전기: -'),\n",
       " Document(id='305fdd9d-cf21-44f4-9f78-0c8d14b4ac44', metadata={'content_type': 'key_matters', 'corp_code': '00877059', 'corp_name': '삼성바이오로직스', 'section': '주요사항', 'source': 'business_report', 'year': '2024'}, page_content='삼성바이오로직스 2024년 주요사항\\n                    항목: 주당 주식배당(주)\\n                    당기: -\\n                    전기: -\\n                    전전기: -'),\n",
       " Document(id='f13daae9-1482-46b5-bb7e-953ab716fc49', metadata={'content_type': 'key_matters', 'corp_code': '00877059', 'corp_name': '삼성바이오로직스', 'section': '주요사항', 'source': 'business_report', 'year': '2024'}, page_content='삼성바이오로직스 2024년 주요사항\\n                    항목: 현금배당수익률(%)\\n                    당기: -\\n                    전기: -\\n                    전전기: -')]"
      ]
     },
     "execution_count": 16,
     "metadata": {},
     "output_type": "execute_result"
    }
   ],
   "execution_count": 16
  },
  {
   "metadata": {},
   "cell_type": "code",
   "outputs": [],
   "execution_count": null,
   "source": "",
   "id": "47cdfdd2b229ed86"
  }
 ],
 "metadata": {
  "kernelspec": {
   "display_name": "Python 3",
   "language": "python",
   "name": "python3"
  },
  "language_info": {
   "codemirror_mode": {
    "name": "ipython",
    "version": 2
   },
   "file_extension": ".py",
   "mimetype": "text/x-python",
   "name": "python",
   "nbconvert_exporter": "python",
   "pygments_lexer": "ipython2",
   "version": "2.7.6"
  }
 },
 "nbformat": 4,
 "nbformat_minor": 5
}
