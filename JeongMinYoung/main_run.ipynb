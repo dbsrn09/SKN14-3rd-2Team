{
 "cells": [
  {
   "metadata": {
    "ExecuteTime": {
     "end_time": "2025-07-15T05:24:02.413759Z",
     "start_time": "2025-07-15T05:24:02.405806Z"
    }
   },
   "cell_type": "code",
   "source": [
    "import os\n",
    "print(os.getcwd())  # 현재 작업 디렉토리 확인"
   ],
   "id": "2a3db6dac8d2df36",
   "outputs": [
    {
     "name": "stdout",
     "output_type": "stream",
     "text": [
      "C:\\Users\\playdata\\Documents\\SKN14-3rd-2Team\\JeongMinYoung\n"
     ]
    }
   ],
   "execution_count": 1
  },
  {
   "cell_type": "code",
   "id": "ef32f91ded19ba46",
   "metadata": {
    "ExecuteTime": {
     "end_time": "2025-07-15T07:40:25.749061Z",
     "start_time": "2025-07-15T07:40:25.699606Z"
    }
   },
   "source": "from utils1.main import run_flexible_rag",
   "outputs": [
    {
     "ename": "ModuleNotFoundError",
     "evalue": "No module named 'handle_node'",
     "output_type": "error",
     "traceback": [
      "\u001B[31m---------------------------------------------------------------------------\u001B[39m",
      "\u001B[31mModuleNotFoundError\u001B[39m                       Traceback (most recent call last)",
      "\u001B[36mCell\u001B[39m\u001B[36m \u001B[39m\u001B[32mIn[3]\u001B[39m\u001B[32m, line 1\u001B[39m\n\u001B[32m----> \u001B[39m\u001B[32m1\u001B[39m \u001B[38;5;28;01mfrom\u001B[39;00m\u001B[38;5;250m \u001B[39m\u001B[34;01mutils1\u001B[39;00m\u001B[34;01m.\u001B[39;00m\u001B[34;01mmain\u001B[39;00m\u001B[38;5;250m \u001B[39m\u001B[38;5;28;01mimport\u001B[39;00m run_flexible_rag\n",
      "\u001B[36mFile \u001B[39m\u001B[32m~\\Documents\\SKN14-3rd-2Team\\JeongMinYoung\\utils1\\main.py:1\u001B[39m\n\u001B[32m----> \u001B[39m\u001B[32m1\u001B[39m \u001B[38;5;28;01mfrom\u001B[39;00m\u001B[38;5;250m \u001B[39m\u001B[34;01mhandle_node\u001B[39;00m\u001B[38;5;250m \u001B[39m\u001B[38;5;28;01mimport\u001B[39;00m handle_accounting, handle_business, handle_financial, handle_hybrid, elief\n\u001B[32m      2\u001B[39m \u001B[38;5;28;01mfrom\u001B[39;00m\u001B[38;5;250m \u001B[39m\u001B[34;01mchain_setting\u001B[39;00m\u001B[38;5;250m \u001B[39m\u001B[38;5;28;01mimport\u001B[39;00m create_chain\n\u001B[32m      4\u001B[39m simple_chain, classification_chain, account_chain, extract_chain, business_chain, hybrid_chain, financial_chain = create_chain()\n",
      "\u001B[31mModuleNotFoundError\u001B[39m: No module named 'handle_node'"
     ]
    }
   ],
   "execution_count": 3
  },
  {
   "metadata": {
    "collapsed": true,
    "ExecuteTime": {
     "end_time": "2025-07-15T06:11:13.050366Z",
     "start_time": "2025-07-15T06:11:06.498360Z"
    }
   },
   "cell_type": "code",
   "source": [
    "question = \"삼성전자 2022년 사업 상황이 어때?\"\n",
    "response = run_flexible_rag(question)\n",
    "print(response)"
   ],
   "id": "initial_id",
   "outputs": [
    {
     "name": "stdout",
     "output_type": "stream",
     "text": [
      "📥 business 처리 시작\n",
      "삼성전자의 2022년 사업 상황은 여러 측면에서 긍정적인 신호를 보였습니다. 우선, 수익 측면에서 전년 대비 증가세를 보였으며, 이는 주로 반도체와 스마트폰 부문에서의 판매 호조에 기인합니다. 특히, 반도체 시장의 수요가 지속적으로 증가하면서 매출에 긍정적인 영향을 미쳤습니다.\n",
      "\n",
      "또한, 기업은 비용 관리에 주력하여 운영 효율성을 높이는 데 성공했습니다. 인건비와 자재비용의 증가에도 불구하고, 전반적인 비용 구조를 개선하여 수익성을 유지할 수 있었습니다. 이러한 노력은 기업의 재무 건전성을 더욱 강화하는 데 기여했습니다.\n",
      "\n",
      "그러나 외부 환경의 변화, 특히 글로벌 경제 불확실성과 공급망 문제는 여전히 도전 과제로 남아 있습니다. 이러한 요소들은 향후 사업 운영에 영향을 미칠 수 있으며, 기업은 이에 대한 대응 전략을 마련해야 할 필요성이 있습니다.\n",
      "\n",
      "종합적으로 볼 때, 삼성전자는 2022년에도 안정적인 성장세를 유지하며, 향후에도 지속 가능한 성장을 위한 기반을 다지고 있는 것으로 평가됩니다. 정확한 수치는 재무제표 API를 통해 확인해야 합니다.\n"
     ]
    }
   ],
   "execution_count": 16
  },
  {
   "metadata": {
    "ExecuteTime": {
     "end_time": "2025-07-15T06:04:32.466885Z",
     "start_time": "2025-07-15T06:04:11.577165Z"
    }
   },
   "cell_type": "code",
   "source": [
    "question = \"네이버의 최근 재무제표를 분석해줘\"\n",
    "response = run_flexible_rag(question)\n",
    "print(response)"
   ],
   "id": "8879f29bd486816a",
   "outputs": [
    {
     "name": "stdout",
     "output_type": "stream",
     "text": [
      "📥 financial 처리 시작\n",
      "### 2023년 재무제표 분석\n",
      "- **자산총계**: 35,738,826억원 (전기: 33,899,043억원)으로, 자산이 증가하였습니다.\n",
      "- **유동자산**: 7,028,077억원 (전기: 6,439,571억원)으로, 유동자산이 증가하였습니다.\n",
      "- **당기손익-공정가치 측정 금융자산**: 697,735억원 (전기: 745,585억원)으로, 감소하였습니다.\n",
      "- **현금및현금성자산**: 3,576,456억원 (전기: 2,724,168억원)으로, 증가하였습니다.\n",
      "- **재고자산**: 1481억원 (전기: 865억원)으로, 증가하였습니다.\n",
      "- **비유동자산**: 28,709,750억원 (전기: 27,459,472억원)으로, 증가하였습니다.\n",
      "- **자본총계**: 24,237,999억원 (전기: 23,450,322억원)으로, 증가하였습니다.\n",
      "- **부채총계**: 11,499,828억원 (전기: 10,448,720억원)으로, 증가하였습니다.\n",
      "- **영업이익**: 1,488,820억원 (전기: 1,304,664억원)으로, 증가하였습니다.\n",
      "- **당기순이익**: 985,018억원 (전기: 673,180억원)으로, 증가하였습니다.\n",
      "\n",
      "### 2024년 재무제표 분석\n",
      "- **자산총계**: 38,167,876억원 (전기: 35,738,826억원)으로, 자산이 증가하였습니다.\n",
      "- **유동자산**: 9,374,912억원 (전기: 7,028,077억원)으로, 유동자산이 증가하였습니다.\n",
      "- **당기손익-공정가치 측정 금융자산**: 412,653억원 (전기: 697,735억원)으로, 감소하였습니다.\n",
      "- **현금및현금성자산**: 4,195,524억원 (전기: 3,576,456억원)으로, 증가하였습니다.\n",
      "- **재고자산**: 2,174억원 (전기: 1,481억원)으로, 증가하였습니다.\n",
      "- **비유동자산**: 28,792,964억원 (전기: 28,709,750억원)으로, 소폭 증가하였습니다.\n",
      "- **자본총계**: 27,000,911억원 (전기: 24,237,999억원)으로, 증가하였습니다.\n",
      "- **부채총계**: 11,166,964억원 (전기: 11,499,828억원)으로, 감소하였습니다.\n",
      "- **영업이익**: 1,979,263억원 (전기: 1,488,820억원)으로, 증가하였습니다.\n",
      "- **당기순이익**: 1,931,976억원 (전기: 985,018억원)으로, 증가하였습니다.\n",
      "\n",
      "### 종합 분석\n",
      "2023년과 2024년 모두 자산과 자본이 증가하였으며, 특히 2024년에는 유동자산과 현금및현금성자산이 크게 증가하였습니다. 영업이익과 당기순이익 또한 두 해 모두 증가하여 기업의 수익성이 개선된 것으로 보입니다. 2024년에는 부채총계가 감소하여 재무 건전성이 향상된 것으로 해석됩니다.\n"
     ]
    }
   ],
   "execution_count": 9
  },
  {
   "metadata": {
    "ExecuteTime": {
     "end_time": "2025-07-15T05:40:44.360301Z",
     "start_time": "2025-07-15T05:40:37.089711Z"
    }
   },
   "cell_type": "code",
   "source": [
    "question = \"재고 자산 회계 처리 방법이 뭐야???\"\n",
    "response = run_flexible_rag(question)\n",
    "print(response)"
   ],
   "id": "38d610e61af73d49",
   "outputs": [
    {
     "name": "stdout",
     "output_type": "stream",
     "text": [
      "📥 accounting 처리 시작\n",
      "재고자산 회계 처리 방법은 다음과 같습니다:\n",
      "\n",
      "1. **원가 결정 방법**: 재고자산의 원가는 선입선출법(FIFO), 가중평균법, 후입선출법(LIFO) 중에서 선택하여 결정할 수 있습니다. 후입선출법은 삭제되었습니다.\n",
      "\n",
      "2. **순실현가능가치**: 재고자산의 원가는 회수하기 어려운 경우(물리적 손상, 진부화, 판매가격 하락 등)에는 순실현가능가치로 감액해야 합니다. 이는 자산의 장부금액이 실현될 것으로 기대되는 금액을 초과하지 않도록 하는 원칙에 따릅니다.\n",
      "\n",
      "3. **저가법 적용**: 재고자산을 순실현가능가치로 감액하는 저가법은 항목별로 적용하되, 비슷한 목적이나 용도를 가진 항목들을 통합하여 적용할 수도 있습니다.\n",
      "\n",
      "4. **소매재고법**: 이익률이 유사하고 품종변화가 심한 다품종 상품을 취급하는 유통업에서 사용되며, 재고자산의 원가는 판매가격을 적절한 총이익률을 반영하여 환원하는 방법으로 결정됩니다.\n",
      "\n",
      "5. **개별법**: 통상적으로 상호 교환될 수 없는 재고자산 항목의 원가는 개별법을 사용하여 결정합니다. \n",
      "\n",
      "이러한 방법들은 재고자산의 원가를 적절하게 결정하고, 재무제표에 정확하게 반영하기 위해 사용됩니다.\n"
     ]
    }
   ],
   "execution_count": 6
  },
  {
   "metadata": {
    "ExecuteTime": {
     "end_time": "2025-07-15T06:08:30.890661Z",
     "start_time": "2025-07-15T06:08:21.989128Z"
    }
   },
   "cell_type": "code",
   "source": [
    "question = \"삼성전자 2024년 사업보고서 핵심\"\n",
    "response = run_flexible_rag(question)\n",
    "print(response)"
   ],
   "id": "b1116aa57325db1e",
   "outputs": [
    {
     "name": "stdout",
     "output_type": "stream",
     "text": [
      "📥 business 처리 시작\n",
      "삼성전자의 2024년 사업보고서는 다양한 부문에서의 수익 창출과 재무 상태를 종합적으로 보여줍니다. 주요 부문으로는 자동차 부품, 전동식 선박, 소프트웨어, 전자, 금융 등이 있으며, 이들 부문은 각각의 특성에 맞춰 수익을 발생시키고 있습니다. \n",
      "\n",
      "특히, 외부 고객으로부터의 수익이 상당히 다양하게 분포되어 있으며, 이는 삼성전자가 다각화된 사업 포트폴리오를 통해 안정적인 수익원을 확보하고 있음을 나타냅니다. 부문 간 수익도 존재하여, 내부적으로도 상호 연관된 거래가 이루어지고 있음을 알 수 있습니다.\n",
      "\n",
      "재무적으로는 감가상각비와 상각비 외에 중요한 비현금성 항목이 없다는 점이 주목할 만합니다. 이는 기업의 현금 흐름 관리가 효율적임을 시사하며, 자산 손상과 같은 비상장 항목이 발생하더라도 그 영향이 제한적임을 보여줍니다.\n",
      "\n",
      "또한, 보고부문 자산과 부채의 구조를 통해 각 부문이 어떻게 자원을 배분하고 있는지를 파악할 수 있으며, 이는 경영진의 전략적 결정이 반영된 결과로 해석됩니다. \n",
      "\n",
      "결론적으로, 삼성전자는 다양한 사업 부문을 통해 안정적인 수익을 창출하고 있으며, 재무 상태 또한 건전하게 유지되고 있는 것으로 보입니다. 정확한 수치는 재무제표 API를 통해 확인해야 합니다.\n"
     ]
    }
   ],
   "execution_count": 10
  },
  {
   "metadata": {
    "ExecuteTime": {
     "end_time": "2025-07-15T06:08:42.159269Z",
     "start_time": "2025-07-15T06:08:40.461248Z"
    }
   },
   "cell_type": "code",
   "source": [
    "question = \"오늘 뭐하지?\"\n",
    "response = run_flexible_rag(question)\n",
    "print(response)"
   ],
   "id": "8060a4e8441b475e",
   "outputs": [
    {
     "name": "stdout",
     "output_type": "stream",
     "text": [
      "일반 질문\n",
      "답변: 해당 내용은 제가 알지 못하는 분야입니다.\n"
     ]
    }
   ],
   "execution_count": 11
  },
  {
   "metadata": {},
   "cell_type": "code",
   "outputs": [],
   "execution_count": null,
   "source": "",
   "id": "c41eabcf98dbd001"
  }
 ],
 "metadata": {
  "kernelspec": {
   "display_name": "Python 3",
   "language": "python",
   "name": "python3"
  },
  "language_info": {
   "codemirror_mode": {
    "name": "ipython",
    "version": 2
   },
   "file_extension": ".py",
   "mimetype": "text/x-python",
   "name": "python",
   "nbconvert_exporter": "python",
   "pygments_lexer": "ipython2",
   "version": "2.7.6"
  }
 },
 "nbformat": 4,
 "nbformat_minor": 5
}
