{
 "cells": [
  {
   "metadata": {
    "ExecuteTime": {
     "end_time": "2025-07-15T17:35:12.569828Z",
     "start_time": "2025-07-15T17:34:45.868288Z"
    }
   },
   "cell_type": "code",
   "source": "from utils1.main import run_flexible_rag",
   "id": "2cf549dbca622768",
   "outputs": [],
   "execution_count": 1
  },
  {
   "metadata": {
    "collapsed": true,
    "ExecuteTime": {
     "end_time": "2025-07-15T17:35:26.632179Z",
     "start_time": "2025-07-15T17:35:12.578Z"
    }
   },
   "cell_type": "code",
   "source": [
    "question = \"삼성전자 2023년 사업 상황이 어때?\"\n",
    "response = run_flexible_rag(question)\n",
    "print(response)"
   ],
   "id": "initial_id",
   "outputs": [
    {
     "name": "stdout",
     "output_type": "stream",
     "text": [
      "📥 hybrid 처리 시작\n",
      "삼성전자의 2023년 사업 상황은 다음과 같이 요약할 수 있습니다.\n",
      "\n",
      "### 1. 재무 성과\n",
      "2023년 삼성전자의 자산총계는 약 455조 9,059억원으로, 전기(2022년) 대비 소폭 증가하였습니다. 유동자산은 약 195조 9,366억원으로 감소하였고, 비유동자산은 약 259조 9,694억원으로 증가했습니다. 자본총계는 약 363조 6,778억원으로 증가하였으며, 부채총계는 약 92조 2,815억원으로 감소했습니다. 이러한 변화는 기업의 재무 안정성을 높이는 데 기여하고 있습니다.\n",
      "\n",
      "### 2. 매출 및 이익\n",
      "2023년 삼성전자의 매출액은 약 258조 9,354억원으로, 전기(2022년) 대비 감소하였습니다. 영업이익은 약 6조 5,669억원으로, 전기 대비 증가하였으나, 당기순이익은 약 1조 5,487억원으로 감소했습니다. 이는 매출 감소에도 불구하고 비용 절감 및 효율성 향상으로 영업이익이 증가한 결과로 해석됩니다.\n",
      "\n",
      "### 3. 사업 부문별 현황\n",
      "삼성전자는 반도체, 정보통신, 디지털 미디어 등 다양한 사업 부문에서 활동하고 있습니다. 특히 반도체 부문은 공급 부족 사태가 개선되면서 생산이 회복되고 있으나, 경기침체로 인해 판매 회복이 제약될 것으로 전망되고 있습니다. \n",
      "\n",
      "### 4. 시장 환경\n",
      "2023년 글로벌 경제는 고물가와 통화 긴축의 영향으로 성장세가 둔화되고 있으며, 자동차 산업의 수요도 소비 심리 위축으로 인해 회복이 늦어질 것으로 예상됩니다. 삼성전자는 주요 고객인 현대자동차·기아와의 공급 관계를 강화하고, 글로벌 완성차 업체 수주 확대를 통해 안정적인 성장을 지속할 계획입니다.\n",
      "\n",
      "### 결론\n",
      "삼성전자는 2023년에도 재무적 안정성을 유지하고 있으며, 영업이익이 증가하는 긍정적인 성과를 보이고 있습니다. 그러나 매출 감소와 경기침체의 영향으로 판매 회복이 어려운 상황입니다. 향후 반도체 공급 회복과 함께 고객 관계 강화를 통해 지속 가능한 성장을 도모할 것으로 보입니다.\n"
     ]
    }
   ],
   "execution_count": 2
  },
  {
   "metadata": {
    "ExecuteTime": {
     "end_time": "2025-07-15T17:35:47.916511Z",
     "start_time": "2025-07-15T17:35:27.008637Z"
    }
   },
   "cell_type": "code",
   "source": [
    "question = \"네이버의 최근 재무제표를 분석해줘\"\n",
    "response = run_flexible_rag(question)\n",
    "print(response)"
   ],
   "id": "8879f29bd486816a",
   "outputs": [
    {
     "name": "stdout",
     "output_type": "stream",
     "text": [
      "📥 financial 처리 시작\n",
      "### 2023년 재무제표 분석\n",
      "- **자산총계**: 35,738,826억원 (당기)에서 33,899,043억원 (전기)으로 증가하였습니다. 이는 기업의 자산이 증가했음을 나타냅니다.\n",
      "- **유동자산**: 7,028,077억원 (당기)에서 6,439,571억원 (전기)으로 증가하였습니다. 유동자산의 증가는 기업의 단기 유동성 개선을 의미합니다.\n",
      "- **현금및현금성자산**: 3,576,456억원 (당기)에서 2,724,168억원 (전기)으로 증가하였습니다. 이는 기업의 현금 보유가 증가했음을 나타냅니다.\n",
      "- **재고자산**: 1481억원 (당기)에서 865억원 (전기)으로 증가하였습니다. 재고자산의 증가는 판매 준비가 증가했음을 의미합니다.\n",
      "- **자본총계**: 24,237,998억원 (당기)에서 23,450,322억원 (전기)으로 증가하였습니다. 이는 기업의 자본이 증가했음을 나타냅니다.\n",
      "- **부채총계**: 11,499,828억원 (당기)에서 10,448,720억원 (전기)으로 증가하였습니다. 부채가 증가했음을 나타내며, 이는 자산 증가에 따른 자금 조달이 필요했음을 시사합니다.\n",
      "- **영업이익**: 1,488,820억원 (당기)에서 1,304,664억원 (전기)으로 증가하였습니다. 이는 영업 성과가 개선되었음을 나타냅니다.\n",
      "- **당기순이익**: 985,018억원 (당기)에서 673,180억원 (전기)으로 증가하였습니다. 이는 기업의 수익성이 개선되었음을 나타냅니다.\n",
      "\n",
      "### 2024년 재무제표 분석\n",
      "- **자산총계**: 38,167,876억원 (당기)에서 35,738,826억원 (전기)으로 증가하였습니다. 자산이 지속적으로 증가하고 있음을 나타냅니다.\n",
      "- **유동자산**: 9,374,912억원 (당기)에서 7,028,077억원 (전기)으로 증가하였습니다. 유동자산의 큰 증가는 단기 유동성의 개선을 의미합니다.\n",
      "- **현금및현금성자산**: 4,195,524억원 (당기)에서 3,576,456억원 (전기)으로 증가하였습니다. 현금 보유가 더욱 증가하였음을 나타냅니다.\n",
      "- **재고자산**: 21,743억원 (당기)에서 14,811억원 (전기)으로 증가하였습니다. 재고자산의 증가는 판매 준비가 더욱 증가했음을 의미합니다.\n",
      "- **자본총계**: 27,000,911억원 (당기)에서 24,237,998억원 (전기)으로 증가하였습니다. 자본이 크게 증가하였음을 나타냅니다.\n",
      "- **부채총계**: 11,166,964억원 (당기)에서 11,499,828억원 (전기)으로 감소하였습니다. 부채가 감소하였다는 것은 재무 건전성이 개선되었음을 나타냅니다.\n",
      "- **영업이익**: 1,979,263억원 (당기)에서 1,488,820억원 (전기)으로 증가하였습니다. 영업 성과가 더욱 개선되었음을 나타냅니다.\n",
      "- **당기순이익**: 1,931,976억원 (당기)에서 985,018억원 (전기)으로 증가하였습니다. 이는 기업의 수익성이 크게 개선되었음을 나타냅니다. \n",
      "\n",
      "이와 같이 2023년과 2024년의 재무제표를 분석한 결과, 네이버는 두 해 모두 자산과 자본이 증가하고, 영업이익 및 당기순이익이 개선되는 긍정적인 재무 성과를 보였습니다.\n"
     ]
    }
   ],
   "execution_count": 3
  },
  {
   "metadata": {
    "ExecuteTime": {
     "end_time": "2025-07-15T17:35:56.056526Z",
     "start_time": "2025-07-15T17:35:47.932674Z"
    }
   },
   "cell_type": "code",
   "source": [
    "question = \"재고 자산 회계 처리 방법이 뭐야???\"\n",
    "response = run_flexible_rag(question)\n",
    "print(response)"
   ],
   "id": "38d610e61af73d49",
   "outputs": [
    {
     "name": "stdout",
     "output_type": "stream",
     "text": [
      "📥 accounting 처리 시작\n",
      "재고자산 회계 처리 방법은 다음과 같습니다:\n",
      "\n",
      "1. **원가 결정 방법**: 재고자산의 원가는 선입선출법(FIFO), 가중평균법, 후입선출법(LIFO) 중에서 선택하여 결정할 수 있습니다. 후입선출법은 삭제되었으며, 선입선출법과 가중평균법이 일반적으로 사용됩니다.\n",
      "\n",
      "2. **순실현가능가치**: 재고자산의 원가는 회수하기 어려운 경우에는 순실현가능가치로 감액해야 합니다. 이는 물리적 손상, 진부화, 판매가격 하락, 완성 또는 판매에 필요한 원가 상승 등의 경우에 적용됩니다.\n",
      "\n",
      "3. **저가법**: 재고자산을 취득원가 이하의 순실현가능가치로 감액하는 저가법은 항목별로 적용하되, 비슷한 목적이나 최종 용도를 가진 항목들을 통합하여 적용할 수도 있습니다.\n",
      "\n",
      "4. **소매재고법**: 이익률이 유사하고 품종 변화가 심한 다품종 상품을 취급하는 유통업에서 사용되며, 재고자산의 원가는 판매가격을 적절한 총이익률을 반영하여 환원하는 방법으로 결정됩니다.\n",
      "\n",
      "5. **개별법**: 통상적으로 상호 교환될 수 없는 재고자산 항목의 원가는 개별법을 사용하여 결정합니다. \n",
      "\n",
      "이러한 방법들은 재고자산의 장부에 표시되는 원가 금액을 적절하게 결정하고, 관련된 수익이 인식될 때까지 장부에 표시하는 데 도움을 줍니다.\n"
     ]
    }
   ],
   "execution_count": 4
  },
  {
   "metadata": {},
   "cell_type": "markdown",
   "source": "",
   "id": "8f0c9638a102df86"
  },
  {
   "metadata": {
    "ExecuteTime": {
     "end_time": "2025-07-15T17:36:31.028726Z",
     "start_time": "2025-07-15T17:36:21.279167Z"
    }
   },
   "cell_type": "code",
   "source": [
    "question = \"네이버 2024년 사업보고서 핵심\"\n",
    "response = run_flexible_rag(question)\n",
    "print(response)"
   ],
   "id": "b1116aa57325db1e",
   "outputs": [
    {
     "name": "stdout",
     "output_type": "stream",
     "text": [
      "📥 business 처리 시작\n",
      "네이버의 2024년 사업보고서는 여러 중요한 사항을 포함하고 있습니다. \n",
      "\n",
      "1. **사업 분야**: 네이버는 반도체, 디스플레이, IT & 모바일, 가전 사업 등 다양한 분야에서 활동하고 있습니다. 특히, 메모리 반도체와 스마트폰 제조는 주요 매출원으로 자리잡고 있습니다.\n",
      "\n",
      "2. **매출 구성**: 전체 매출의 70%가 해외에서 발생하고 있으며, 이는 글로벌 시장에서의 경쟁력을 반영합니다.\n",
      "\n",
      "3. **합병 및 인수**: 2024년에는 주요 합병 사항은 없지만, 소규모 기술 기업 인수를 통해 기술력을 강화하고 있습니다.\n",
      "\n",
      "4. **주요 투자**: 해외 생산법인 증설과 연구개발 센터 확장을 통해 지속적인 성장을 도모하고 있으며, 신사업 분야에도 적극적으로 투자하고 있습니다.\n",
      "\n",
      "5. **조직 개편**: 사업부 조직 개편과 자회사 통합을 통해 효율성을 높이고 있습니다.\n",
      "\n",
      "6. **향후 계획**: 신사업 진출과 투자 확대, 조직 개편을 통해 시장에서의 입지를 더욱 강화할 계획입니다.\n",
      "\n",
      "7. **감사보고서**: 감사의견은 적정으로, 삼일회계법인이 감사하였습니다. 이는 재무 상태의 신뢰성을 높이는 요소입니다.\n",
      "\n",
      "이와 같은 내용들은 네이버가 향후에도 지속 가능한 성장을 추구하고 있음을 보여줍니다. 정확한 재무 수치는 재무제표 API를 통해 확인해야 합니다.\n"
     ]
    }
   ],
   "execution_count": 7
  },
  {
   "metadata": {
    "ExecuteTime": {
     "end_time": "2025-07-15T17:36:16.578679Z",
     "start_time": "2025-07-15T17:36:07.726299Z"
    }
   },
   "cell_type": "code",
   "source": [
    "question = \"네이버 2024년 사업보고서 핵심\"\n",
    "response = run_flexible_rag(question)\n",
    "print(response)"
   ],
   "id": "f592699c2393d879",
   "outputs": [
    {
     "name": "stdout",
     "output_type": "stream",
     "text": [
      "📥 business 처리 시작\n",
      "네이버의 2024년 사업보고서는 여러 중요한 사항을 포함하고 있습니다. \n",
      "\n",
      "1. **사업 분야**: 네이버는 반도체, 디스플레이, IT & 모바일, 가전 사업 등 다양한 분야에서 활동하고 있습니다. 특히, 메모리 반도체와 스마트폰 제조는 주요 매출원으로 자리잡고 있습니다.\n",
      "\n",
      "2. **매출 구성**: 해외 매출이 전체의 70%를 차지하며, 이는 글로벌 시장에서의 강력한 입지를 나타냅니다. 국내 매출은 30%로, 국내 시장에서도 일정한 비중을 유지하고 있습니다.\n",
      "\n",
      "3. **합병 및 인수**: 2024년에는 주요 합병 사항은 없지만, 소규모 기술 기업 인수를 통해 기술력을 강화하고 있습니다.\n",
      "\n",
      "4. **주요 투자**: 해외 생산법인 증설과 연구개발 센터 확장을 통해 지속적인 성장을 도모하고 있으며, 신사업 분야에 대한 투자도 활발히 진행되고 있습니다.\n",
      "\n",
      "5. **조직 개편**: 사업부 조직 개편과 자회사 통합을 통해 효율성을 높이고, 경영 구조를 개선하고 있습니다.\n",
      "\n",
      "6. **향후 계획**: 신사업 진출과 투자 및 확장 계획이 있으며, 이는 네이버의 미래 성장 가능성을 높이는 요소로 작용할 것입니다.\n",
      "\n",
      "7. **감사보고서**: 감사의견이 적정으로, 재무 상태에 대한 신뢰성을 확보하고 있습니다.\n",
      "\n",
      "이러한 요소들은 네이버가 지속 가능한 성장을 추구하고 있음을 보여줍니다. 정확한 재무 수치는 재무제표 API를 통해 확인해야 합니다.\n"
     ]
    }
   ],
   "execution_count": 6
  },
  {
   "metadata": {
    "ExecuteTime": {
     "end_time": "2025-07-15T17:37:07.601066Z",
     "start_time": "2025-07-15T17:37:06.410562Z"
    }
   },
   "cell_type": "code",
   "source": [
    "question = \"오늘 뭐하지?\"\n",
    "response = run_flexible_rag(question)\n",
    "print(response)"
   ],
   "id": "8060a4e8441b475e",
   "outputs": [
    {
     "name": "stdout",
     "output_type": "stream",
     "text": [
      "일반 질문\n",
      "답변: 해당 내용은 제가 알지 못하는 분야입니다.\n"
     ]
    }
   ],
   "execution_count": 8
  },
  {
   "metadata": {
    "ExecuteTime": {
     "end_time": "2025-07-15T15:37:57.629622Z",
     "start_time": "2025-07-15T15:37:40.425406Z"
    }
   },
   "cell_type": "code",
   "source": [
    "from utils1.retreiver_setting import faiss_retriever_loading\n",
    "\n",
    "account_retriever, business_retriever, business_retriever2, self_retriever = faiss_retriever_loading()\n",
    "\n",
    "# self_retriever.invoke('삼성바이오 2024년 핵심 보고서')\n",
    "\n"
   ],
   "id": "c41eabcf98dbd001",
   "outputs": [],
   "execution_count": 1
  },
  {
   "metadata": {
    "ExecuteTime": {
     "end_time": "2025-07-15T16:24:38.821364Z",
     "start_time": "2025-07-15T16:24:36.999965Z"
    }
   },
   "cell_type": "code",
   "source": [
    "relevent_docs = self_retriever.invoke('메출 총 이익 신사업 ')\n",
    "relevent_docs"
   ],
   "id": "c80ec8f02eb37ff9",
   "outputs": [
    {
     "data": {
      "text/plain": [
       "[Document(id='9ea17bcc-e37a-4ac7-ab8f-bede190b3160', metadata={'content_type': 'other_important_matters', 'corp_code': '00126256', 'corp_name': '삼성생명', 'section': '기타 중요사항', 'source': 'business_report', 'year': '2024'}, page_content='삼성생명 2024년 기타 중요사항\\n                \\n                공시책임자:\\n                - 성명: 홍길동\\n                - 부서: 재무팀\\n                - 연락처: 02-1234-5678\\n                - 이메일: disclosure@company.com\\n                \\n                감사보고서:\\n                - 감사의견: 적정의견\\n                - 감사법인: 삼일회계법인\\n                - 감사기간: 2024.01.01 ~ 2024.12.31\\n                \\n                주주총회 의결사항:\\n                - 정기주주총회 개최일: 2024.03.15\\n                - 주요 의결사항: 재무제표 승인, 이사 선임\\n                - 특별결의사항: 정관 변경\\n                \\n                기타 중요 공시:\\n                - 중요한 계약 체결\\n                - 주요 소송 진행 상황\\n                - 경영진 변동사항\\n                - 사업 구조 변화\\n                \\n                향후 계획:\\n                - 신사업 진출 계획\\n                - 투자 및 확장 계획\\n                - 조직 개편 계획'),\n",
       " Document(id='00fd5451-b237-4bfe-b4a9-74d3ff36eb72', metadata={'content_type': 'employee_status', 'corp_code': '00266961', 'corp_name': 'NAVER', 'section': '임직원 현황', 'source': 'business_report', 'year': '2023'}, page_content='NAVER 2023년 임직원 현황\\n                    부문: 전사\\n                    성별: 여\\n                    정규직: 1,742명\\n                    계약직: 34명\\n                    합계: 1,776명\\n                    평균근속연수: 6.7년'),\n",
       " Document(id='37763d79-f6ab-407a-bca6-c1b54fd82c22', metadata={'content_type': 'employee_status', 'corp_code': '00266961', 'corp_name': 'NAVER', 'section': '임직원 현황', 'source': 'business_report', 'year': '2024'}, page_content='NAVER 2024년 임직원 현황\\n                    부문: 전사\\n                    성별: 여\\n                    정규직: 1,868명\\n                    계약직: 41명\\n                    합계: 1,909명\\n                    평균근속연수: 7.1년'),\n",
       " Document(id='43bc3fb5-9acb-491e-a498-6d3d9e219368', metadata={'content_type': 'board_audit', 'corp_code': '00126256', 'corp_name': '삼성생명', 'section': '이사회 및 감사기구 현황', 'source': 'business_report', 'year': '2024'}, page_content='삼성생명 2024년 이사회 및 감사기구 현황\\n                \\n                이사회 구성:\\n                - 사내이사: 3명\\n                - 사외이사: 5명\\n                - 기타비상무이사: 1명\\n                - 총 이사 수: 9명\\n                \\n                이사회 활동:\\n                - 개최 횟수: 연간 12회\\n                - 주요 의결사항: 경영계획, 예산, 투자 등\\n                - 출석률: 평균 95%\\n                \\n                감사기구:\\n                - 감사위원회 구성: 사외이사 3명\\n                - 감사위원회 개최: 연간 8회\\n                - 내부감사 조직: 감사팀 운영\\n                \\n                독립성 확보:\\n                - 사외이사 독립성 기준 준수\\n                - 이해관계 없는 전문가 선임'),\n",
       " Document(id='41b0072a-0e45-47dd-93bf-e2a3bdff32d5', metadata={'content_type': 'employee_status', 'corp_code': '00266961', 'corp_name': 'NAVER', 'section': '임직원 현황', 'source': 'business_report', 'year': '2024'}, page_content='NAVER 2024년 임직원 현황\\n                    부문: 전사\\n                    성별: 남\\n                    정규직: 2,667명\\n                    계약직: 7명\\n                    합계: 2,674명\\n                    평균근속연수: 7.6년'),\n",
       " Document(id='efccc4fc-99c1-4b76-9b52-9f813860bafd', metadata={'content_type': 'other_important_matters', 'corp_code': '00126256', 'corp_name': '삼성생명', 'section': '기타 중요사항', 'source': 'business_report', 'year': '2022'}, page_content='삼성생명 2022년 기타 중요사항\\n                \\n                공시책임자:\\n                - 성명: 홍길동\\n                - 부서: 재무팀\\n                - 연락처: 02-1234-5678\\n                - 이메일: disclosure@company.com\\n                \\n                감사보고서:\\n                - 감사의견: 적정의견\\n                - 감사법인: 삼일회계법인\\n                - 감사기간: 2024.01.01 ~ 2024.12.31\\n                \\n                주주총회 의결사항:\\n                - 정기주주총회 개최일: 2024.03.15\\n                - 주요 의결사항: 재무제표 승인, 이사 선임\\n                - 특별결의사항: 정관 변경\\n                \\n                기타 중요 공시:\\n                - 중요한 계약 체결\\n                - 주요 소송 진행 상황\\n                - 경영진 변동사항\\n                - 사업 구조 변화\\n                \\n                향후 계획:\\n                - 신사업 진출 계획\\n                - 투자 및 확장 계획\\n                - 조직 개편 계획'),\n",
       " Document(id='dd72af6b-c195-41c7-8a9a-303f3296b82f', metadata={'content_type': 'other_important_matters', 'corp_code': '00126256', 'corp_name': '삼성생명', 'section': '기타 중요사항', 'source': 'business_report', 'year': '2023'}, page_content='삼성생명 2023년 기타 중요사항\\n                \\n                공시책임자:\\n                - 성명: 홍길동\\n                - 부서: 재무팀\\n                - 연락처: 02-1234-5678\\n                - 이메일: disclosure@company.com\\n                \\n                감사보고서:\\n                - 감사의견: 적정의견\\n                - 감사법인: 삼일회계법인\\n                - 감사기간: 2024.01.01 ~ 2024.12.31\\n                \\n                주주총회 의결사항:\\n                - 정기주주총회 개최일: 2024.03.15\\n                - 주요 의결사항: 재무제표 승인, 이사 선임\\n                - 특별결의사항: 정관 변경\\n                \\n                기타 중요 공시:\\n                - 중요한 계약 체결\\n                - 주요 소송 진행 상황\\n                - 경영진 변동사항\\n                - 사업 구조 변화\\n                \\n                향후 계획:\\n                - 신사업 진출 계획\\n                - 투자 및 확장 계획\\n                - 조직 개편 계획'),\n",
       " Document(id='ac66a66c-c1d9-404b-966d-aa5383d823b9', metadata={'content_type': 'other_important_matters', 'corp_code': '00126229', 'corp_name': '삼성물산', 'section': '기타 중요사항', 'source': 'business_report', 'year': '2024'}, page_content='삼성물산 2024년 기타 중요사항\\n                \\n                공시책임자:\\n                - 성명: 홍길동\\n                - 부서: 재무팀\\n                - 연락처: 02-1234-5678\\n                - 이메일: disclosure@company.com\\n                \\n                감사보고서:\\n                - 감사의견: 적정의견\\n                - 감사법인: 삼일회계법인\\n                - 감사기간: 2024.01.01 ~ 2024.12.31\\n                \\n                주주총회 의결사항:\\n                - 정기주주총회 개최일: 2024.03.15\\n                - 주요 의결사항: 재무제표 승인, 이사 선임\\n                - 특별결의사항: 정관 변경\\n                \\n                기타 중요 공시:\\n                - 중요한 계약 체결\\n                - 주요 소송 진행 상황\\n                - 경영진 변동사항\\n                - 사업 구조 변화\\n                \\n                향후 계획:\\n                - 신사업 진출 계획\\n                - 투자 및 확장 계획\\n                - 조직 개편 계획'),\n",
       " Document(id='7626342e-2f1a-455e-9326-71cd65574f20', metadata={'content_type': 'other_important_matters', 'corp_code': '00126380', 'corp_name': '삼성전자', 'section': '기타 중요사항', 'source': 'business_report', 'year': '2024'}, page_content='삼성전자 2024년 기타 중요사항\\n                \\n                공시책임자:\\n                - 성명: 홍길동\\n                - 부서: 재무팀\\n                - 연락처: 02-1234-5678\\n                - 이메일: disclosure@company.com\\n                \\n                감사보고서:\\n                - 감사의견: 적정의견\\n                - 감사법인: 삼일회계법인\\n                - 감사기간: 2024.01.01 ~ 2024.12.31\\n                \\n                주주총회 의결사항:\\n                - 정기주주총회 개최일: 2024.03.15\\n                - 주요 의결사항: 재무제표 승인, 이사 선임\\n                - 특별결의사항: 정관 변경\\n                \\n                기타 중요 공시:\\n                - 중요한 계약 체결\\n                - 주요 소송 진행 상황\\n                - 경영진 변동사항\\n                - 사업 구조 변화\\n                \\n                향후 계획:\\n                - 신사업 진출 계획\\n                - 투자 및 확장 계획\\n                - 조직 개편 계획'),\n",
       " Document(id='2393cf49-6e4a-44e6-a7aa-b0743acaab00', metadata={'content_type': 'other_important_matters', 'corp_code': '00126229', 'corp_name': '삼성물산', 'section': '기타 중요사항', 'source': 'business_report', 'year': '2023'}, page_content='삼성물산 2023년 기타 중요사항\\n                \\n                공시책임자:\\n                - 성명: 홍길동\\n                - 부서: 재무팀\\n                - 연락처: 02-1234-5678\\n                - 이메일: disclosure@company.com\\n                \\n                감사보고서:\\n                - 감사의견: 적정의견\\n                - 감사법인: 삼일회계법인\\n                - 감사기간: 2024.01.01 ~ 2024.12.31\\n                \\n                주주총회 의결사항:\\n                - 정기주주총회 개최일: 2024.03.15\\n                - 주요 의결사항: 재무제표 승인, 이사 선임\\n                - 특별결의사항: 정관 변경\\n                \\n                기타 중요 공시:\\n                - 중요한 계약 체결\\n                - 주요 소송 진행 상황\\n                - 경영진 변동사항\\n                - 사업 구조 변화\\n                \\n                향후 계획:\\n                - 신사업 진출 계획\\n                - 투자 및 확장 계획\\n                - 조직 개편 계획')]"
      ]
     },
     "execution_count": 24,
     "metadata": {},
     "output_type": "execute_result"
    }
   ],
   "execution_count": 24
  },
  {
   "metadata": {
    "ExecuteTime": {
     "end_time": "2025-07-15T16:25:07.315488Z",
     "start_time": "2025-07-15T16:25:05.101700Z"
    }
   },
   "cell_type": "code",
   "source": [
    "relevent_docs = self_retriever.invoke('재무제표 ')\n",
    "relevent_docs"
   ],
   "id": "6b431293b92da66d",
   "outputs": [
    {
     "data": {
      "text/plain": [
       "[Document(id='32cf41c0-7a45-4bb6-b154-1ed1801a3bc0', metadata={'account_id': 'ifrs-full_CashFlowsFromUsedInFinancingActivities', 'account_nm': '재무활동현금흐름', 'category': '재무제표', 'corp_code': '266961', 'corp_name': 'NAVER', 'currency': 'KRW', 'item': '재무활동현금흐름', 'rcept_no': '20250318000645', 'section': '재무지표', 'source': 'csv', 'year': '2024'}, page_content='NAVER 2024년 재무활동현금흐름\\n                        - 금액: -770292464617원\\n                        - 기간: 제제 26 기\\n                        - 이전년도: -110032028405.0원 (제제 25 기)\\n                        - 전전년도: -339465120952.0원 (제제 24 기)\\n                        - 통화: KRW\\n                        - 계정과목: 재무활동현금흐름\\n                        - 계정코드: ifrs-full_CashFlowsFromUsedInFinancingActivities'),\n",
       " Document(id='5d6a2ecd-57c2-45d3-9a8a-5b4802b37667', metadata={'account_id': 'ifrs-full_Inventories', 'account_nm': '재고자산', 'category': '재무제표', 'corp_code': '164645', 'corp_name': 'HMM', 'currency': 'KRW', 'item': '재고자산', 'rcept_no': '20250318000828', 'section': '재무지표', 'source': 'csv', 'year': '2024'}, page_content='HMM 2024년 재고자산\\n                        - 금액: 401842000000.0원\\n                        - 기간: 제제 49 기\\n                        - 이전년도: 362398000000.0원 (제제 48 기)\\n                        - 전전년도: 325192000000.0원 (제제 47 기)\\n                        - 통화: KRW\\n                        - 계정과목: 재고자산\\n                        - 계정코드: ifrs-full_Inventories'),\n",
       " Document(id='ca20b659-74af-4589-9d46-4e3d43f4ba93', metadata={'content_type': 'other_important_matters', 'corp_code': '00547583', 'corp_name': '하나금융지주', 'section': '기타 중요사항', 'source': 'business_report', 'year': '2024'}, page_content='하나금융지주 2024년 기타 중요사항\\n                \\n                공시책임자:\\n                - 성명: 홍길동\\n                - 부서: 재무팀\\n                - 연락처: 02-1234-5678\\n                - 이메일: disclosure@company.com\\n                \\n                감사보고서:\\n                - 감사의견: 적정의견\\n                - 감사법인: 삼일회계법인\\n                - 감사기간: 2024.01.01 ~ 2024.12.31\\n                \\n                주주총회 의결사항:\\n                - 정기주주총회 개최일: 2024.03.15\\n                - 주요 의결사항: 재무제표 승인, 이사 선임\\n                - 특별결의사항: 정관 변경\\n                \\n                기타 중요 공시:\\n                - 중요한 계약 체결\\n                - 주요 소송 진행 상황\\n                - 경영진 변동사항\\n                - 사업 구조 변화\\n                \\n                향후 계획:\\n                - 신사업 진출 계획\\n                - 투자 및 확장 계획\\n                - 조직 개편 계획'),\n",
       " Document(id='ea1f120b-e98e-48e0-a156-4f00b30bbaa6', metadata={'account_id': 'ifrs-full_CashFlowsFromUsedInFinancingActivities', 'account_nm': '재무활동현금흐름', 'category': '재무제표', 'corp_code': '106641', 'corp_name': '기아', 'currency': 'KRW', 'item': '재무활동현금흐름', 'rcept_no': '20250313001390', 'section': '재무지표', 'source': 'csv', 'year': '2024'}, page_content='기아 2024년 재무활동현금흐름\\n                        - 금액: -3569987000000.0원\\n                        - 기간: 제제 81 기\\n                        - 이전년도: -5596331000000.0원 (제제 80 기)\\n                        - 전전년도: -3454447000000.0원 (제제 79 기)\\n                        - 통화: KRW\\n                        - 계정과목: 재무활동현금흐름\\n                        - 계정코드: ifrs-full_CashFlowsFromUsedInFinancingActivities'),\n",
       " Document(id='8ee1126c-989b-402d-8c63-3eb9418384b7', metadata={'content_type': 'other_important_matters', 'corp_code': '00164742', 'corp_name': '현대자동차', 'section': '기타 중요사항', 'source': 'business_report', 'year': '2024'}, page_content='현대자동차 2024년 기타 중요사항\\n                \\n                공시책임자:\\n                - 성명: 홍길동\\n                - 부서: 재무팀\\n                - 연락처: 02-1234-5678\\n                - 이메일: disclosure@company.com\\n                \\n                감사보고서:\\n                - 감사의견: 적정의견\\n                - 감사법인: 삼일회계법인\\n                - 감사기간: 2024.01.01 ~ 2024.12.31\\n                \\n                주주총회 의결사항:\\n                - 정기주주총회 개최일: 2024.03.15\\n                - 주요 의결사항: 재무제표 승인, 이사 선임\\n                - 특별결의사항: 정관 변경\\n                \\n                기타 중요 공시:\\n                - 중요한 계약 체결\\n                - 주요 소송 진행 상황\\n                - 경영진 변동사항\\n                - 사업 구조 변화\\n                \\n                향후 계획:\\n                - 신사업 진출 계획\\n                - 투자 및 확장 계획\\n                - 조직 개편 계획'),\n",
       " Document(id='e7ef3bf1-2797-4c46-8417-a2fd9870052f', metadata={'account_id': 'ifrs-full_CashFlowsFromUsedInFinancingActivities', 'account_nm': '재무활동현금흐름', 'category': '재무제표', 'corp_code': '266961', 'corp_name': 'NAVER', 'currency': 'KRW', 'item': '재무활동현금흐름', 'rcept_no': '20240318000844', 'section': '재무지표', 'source': 'csv', 'year': '2023'}, page_content='NAVER 2023년 재무활동현금흐름\\n                        - 금액: -110032028405.0원\\n                        - 기간: 제제 25 기\\n                        - 이전년도: -339465120952.0원 (제제 24 기)\\n                        - 전전년도: 11642326424402.0원 (제제 23 기)\\n                        - 통화: KRW\\n                        - 계정과목: 재무활동현금흐름\\n                        - 계정코드: ifrs-full_CashFlowsFromUsedInFinancingActivities'),\n",
       " Document(id='94675c19-e57c-47f6-b47a-5836400cd4fc', metadata={'account_id': 'ifrs-full_CashFlowsFromUsedInFinancingActivities', 'account_nm': '재무활동현금흐름', 'category': '재무제표', 'corp_code': '164645', 'corp_name': 'HMM', 'currency': 'KRW', 'item': '재무활동현금흐름', 'rcept_no': '20250318000828', 'section': '재무지표', 'source': 'csv', 'year': '2024'}, page_content='HMM 2024년 재무활동현금흐름\\n                        - 금액: -539123000000.0원\\n                        - 기간: 제제 49 기\\n                        - 이전년도: -2237979000000.0원 (제제 48 기)\\n                        - 전전년도: -3330661000000.0원 (제제 47 기)\\n                        - 통화: KRW\\n                        - 계정과목: 재무활동현금흐름\\n                        - 계정코드: ifrs-full_CashFlowsFromUsedInFinancingActivities'),\n",
       " Document(id='3af5b4d1-8c3a-4e0a-99db-5a1df4c005b7', metadata={'content_type': 'other_important_matters', 'corp_code': '00164645', 'corp_name': 'HMM', 'section': '기타 중요사항', 'source': 'business_report', 'year': '2024'}, page_content='HMM 2024년 기타 중요사항\\n                \\n                공시책임자:\\n                - 성명: 홍길동\\n                - 부서: 재무팀\\n                - 연락처: 02-1234-5678\\n                - 이메일: disclosure@company.com\\n                \\n                감사보고서:\\n                - 감사의견: 적정의견\\n                - 감사법인: 삼일회계법인\\n                - 감사기간: 2024.01.01 ~ 2024.12.31\\n                \\n                주주총회 의결사항:\\n                - 정기주주총회 개최일: 2024.03.15\\n                - 주요 의결사항: 재무제표 승인, 이사 선임\\n                - 특별결의사항: 정관 변경\\n                \\n                기타 중요 공시:\\n                - 중요한 계약 체결\\n                - 주요 소송 진행 상황\\n                - 경영진 변동사항\\n                - 사업 구조 변화\\n                \\n                향후 계획:\\n                - 신사업 진출 계획\\n                - 투자 및 확장 계획\\n                - 조직 개편 계획'),\n",
       " Document(id='26ad1555-85d8-4a8c-b424-d68d9d46a001', metadata={'content_type': 'other_important_matters', 'corp_code': '00266961', 'corp_name': 'NAVER', 'section': '기타 중요사항', 'source': 'business_report', 'year': '2024'}, page_content='NAVER 2024년 기타 중요사항\\n                \\n                공시책임자:\\n                - 성명: 홍길동\\n                - 부서: 재무팀\\n                - 연락처: 02-1234-5678\\n                - 이메일: disclosure@company.com\\n                \\n                감사보고서:\\n                - 감사의견: 적정의견\\n                - 감사법인: 삼일회계법인\\n                - 감사기간: 2024.01.01 ~ 2024.12.31\\n                \\n                주주총회 의결사항:\\n                - 정기주주총회 개최일: 2024.03.15\\n                - 주요 의결사항: 재무제표 승인, 이사 선임\\n                - 특별결의사항: 정관 변경\\n                \\n                기타 중요 공시:\\n                - 중요한 계약 체결\\n                - 주요 소송 진행 상황\\n                - 경영진 변동사항\\n                - 사업 구조 변화\\n                \\n                향후 계획:\\n                - 신사업 진출 계획\\n                - 투자 및 확장 계획\\n                - 조직 개편 계획'),\n",
       " Document(id='e2693b9f-6111-4039-bce2-a95559b2601e', metadata={'account_id': 'ifrs-full_CashFlowsFromUsedInFinancingActivities', 'account_nm': '재무활동현금흐름', 'category': '재무제표', 'corp_code': '1515323', 'corp_name': 'LG에너지솔루션', 'currency': 'KRW', 'item': '재무활동현금흐름', 'rcept_no': '20250312000405', 'section': '재무지표', 'source': 'csv', 'year': '2024'}, page_content='LG에너지솔루션 2024년 재무활동현금흐름\\n                        - 금액: 5381505000000원\\n                        - 기간: 제제 5 기\\n                        - 이전년도: 4354690000000원 (제제 4 기)\\n                        - 전전년도: 11414617000000원 (제제 3 기)\\n                        - 통화: KRW\\n                        - 계정과목: 재무활동현금흐름\\n                        - 계정코드: ifrs-full_CashFlowsFromUsedInFinancingActivities')]"
      ]
     },
     "execution_count": 26,
     "metadata": {},
     "output_type": "execute_result"
    }
   ],
   "execution_count": 26
  },
  {
   "metadata": {
    "ExecuteTime": {
     "end_time": "2025-07-15T15:39:29.420475Z",
     "start_time": "2025-07-15T15:39:28.156901Z"
    }
   },
   "cell_type": "code",
   "source": [
    "# 쿼리 생성기에 직접 접근\n",
    "query_constructor = self_retriever.query_constructor\n",
    "\n",
    "# 사용자 쿼리를 구조화된 쿼리로 변환\n",
    "user_query = \"삼성전자 기업의 2022년부터 2024년까지의 핵심 보고서\"\n",
    "structured_query = query_constructor.invoke({\"query\": user_query})\n",
    "\n",
    "print(\"원본 쿼리:\", user_query)\n",
    "print(\"변환된 쿼리:\", structured_query)"
   ],
   "id": "3a6d3a1e55b2c720",
   "outputs": [
    {
     "name": "stdout",
     "output_type": "stream",
     "text": [
      "원본 쿼리: 삼성전자 기업의 2022년부터 2024년까지의 핵심 보고서\n",
      "변환된 쿼리: query='삼성전자 핵심 보고서' filter=Operation(operator=<Operator.AND: 'and'>, arguments=[Comparison(comparator=<Comparator.GTE: 'gte'>, attribute='year', value='2022'), Comparison(comparator=<Comparator.LTE: 'lte'>, attribute='year', value='2024')]) limit=None\n"
     ]
    }
   ],
   "execution_count": 5
  },
  {
   "metadata": {
    "ExecuteTime": {
     "end_time": "2025-07-15T16:22:00.623907Z",
     "start_time": "2025-07-15T16:21:59.106592Z"
    }
   },
   "cell_type": "code",
   "source": [
    "relevent_docs2 = business_retriever2.invoke('삼성바이오 2024년 핵심 보고서', k=10)\n",
    "len(relevent_docs2)"
   ],
   "id": "fd8f222190425e3a",
   "outputs": [
    {
     "data": {
      "text/plain": [
       "10"
      ]
     },
     "execution_count": 19,
     "metadata": {},
     "output_type": "execute_result"
    }
   ],
   "execution_count": 19
  },
  {
   "metadata": {
    "ExecuteTime": {
     "end_time": "2025-07-15T16:22:04.747562Z",
     "start_time": "2025-07-15T16:22:04.741880Z"
    }
   },
   "cell_type": "code",
   "source": "relevent_docs2",
   "id": "6f8de6a9a1e4ead",
   "outputs": [
    {
     "data": {
      "text/plain": [
       "[Document(id='b7c74045-1218-4752-b69d-c94058a66722', metadata={'content_type': 'key_matters', 'corp_code': '00877059', 'corp_name': '삼성바이오로직스', 'section': '주요사항', 'source': 'business_report', 'year': '2024'}, page_content='삼성바이오로직스 2024년 주요사항\\n                    항목: 주식배당금총액(백만원)\\n                    당기: -\\n                    전기: -\\n                    전전기: -'),\n",
       " Document(id='12ab6704-8d21-4a24-b3f5-26ac1d6a1fce', metadata={'content_type': 'key_matters', 'corp_code': '00877059', 'corp_name': '삼성바이오로직스', 'section': '주요사항', 'source': 'business_report', 'year': '2024'}, page_content='삼성바이오로직스 2024년 주요사항\\n                    항목: 현금배당금총액(백만원)\\n                    당기: -\\n                    전기: -\\n                    전전기: -'),\n",
       " Document(id='dc2e2309-cb52-4bee-a0d3-d4809db4bd74', metadata={'content_type': 'key_matters', 'corp_code': '00877059', 'corp_name': '삼성바이오로직스', 'section': '주요사항', 'source': 'business_report', 'year': '2024'}, page_content='삼성바이오로직스 2024년 주요사항\\n                    항목: (별도)당기순이익(백만원)\\n                    당기: 1,050,967\\n                    전기: 945,920\\n                    전전기: 686,793'),\n",
       " Document(id='7da4191c-96c6-4e56-97be-c2902957271a', metadata={'content_type': 'key_matters', 'corp_code': '00877059', 'corp_name': '삼성바이오로직스', 'section': '주요사항', 'source': 'business_report', 'year': '2024'}, page_content='삼성바이오로직스 2024년 주요사항\\n                    항목: (연결)당기순이익(백만원)\\n                    당기: 1,083,316\\n                    전기: 857,691\\n                    전전기: 798,056'),\n",
       " Document(id='1354c78a-c0a2-4e73-85a8-e20528f57c5d', metadata={'content_type': 'research_development', 'corp_code': '00877059', 'corp_name': '삼성바이오로직스', 'section': '연구개발 활동', 'source': 'business_report', 'year': '2024'}, page_content='삼성바이오로직스 2024년 연구개발 활동\\n                연구개발 투자:\\n                - 연구개발비: 전년 대비 증가\\n                - 매출액 대비 연구개발비 비율: 8.5%\\n                - 연구개발 인력: 전체 임직원의 25%\\n                \\n                주요 연구개발 분야:\\n                - 차세대 반도체 기술\\n                - 인공지능 및 머신러닝\\n                - 5G/6G 통신 기술\\n                - 친환경 기술\\n                \\n                연구개발 성과:\\n                - 특허 출원: 연간 1,000건 이상\\n                - 국제 표준화 참여\\n                - 산학협력 프로젝트 수행'),\n",
       " Document(id='c576e64b-909b-4b60-abdd-c2c498c10e56', metadata={'content_type': 'key_matters', 'corp_code': '00877059', 'corp_name': '삼성바이오로직스', 'section': '주요사항', 'source': 'business_report', 'year': '2024'}, page_content='삼성바이오로직스 2024년 주요사항\\n                    항목: 주식배당수익률(%)\\n                    당기: -\\n                    전기: -\\n                    전전기: -'),\n",
       " Document(id='bb08ec3e-604e-4362-b472-b9d92570644e', metadata={'content_type': 'key_matters', 'corp_code': '00877059', 'corp_name': '삼성바이오로직스', 'section': '주요사항', 'source': 'business_report', 'year': '2024'}, page_content='삼성바이오로직스 2024년 주요사항\\n                    항목: 주식배당수익률(%)\\n                    당기: -\\n                    전기: -\\n                    전전기: -'),\n",
       " Document(id='305fdd9d-cf21-44f4-9f78-0c8d14b4ac44', metadata={'content_type': 'key_matters', 'corp_code': '00877059', 'corp_name': '삼성바이오로직스', 'section': '주요사항', 'source': 'business_report', 'year': '2024'}, page_content='삼성바이오로직스 2024년 주요사항\\n                    항목: 주당 주식배당(주)\\n                    당기: -\\n                    전기: -\\n                    전전기: -'),\n",
       " Document(id='1d8185ec-74d1-4772-a5ae-8d6d264676b6', metadata={'content_type': 'key_matters', 'corp_code': '00877059', 'corp_name': '삼성바이오로직스', 'section': '주요사항', 'source': 'business_report', 'year': '2024'}, page_content='삼성바이오로직스 2024년 주요사항\\n                    항목: 주당 주식배당(주)\\n                    당기: -\\n                    전기: -\\n                    전전기: -'),\n",
       " Document(id='ab531baf-2229-4f2b-8bc6-b6b52b0ced22', metadata={'content_type': 'key_matters', 'corp_code': '00877059', 'corp_name': '삼성바이오로직스', 'section': '주요사항', 'source': 'business_report', 'year': '2024'}, page_content='삼성바이오로직스 2024년 주요사항\\n                    항목: (연결)현금배당성향(%)\\n                    당기: -\\n                    전기: -\\n                    전전기: -')]"
      ]
     },
     "execution_count": 20,
     "metadata": {},
     "output_type": "execute_result"
    }
   ],
   "execution_count": 20
  },
  {
   "metadata": {
    "ExecuteTime": {
     "end_time": "2025-07-15T14:26:35.079356Z",
     "start_time": "2025-07-15T14:26:35.071418Z"
    }
   },
   "cell_type": "code",
   "source": "relevent_docs2",
   "id": "bf683e2199dc11de",
   "outputs": [
    {
     "data": {
      "text/plain": [
       "[Document(id='b7c74045-1218-4752-b69d-c94058a66722', metadata={'content_type': 'key_matters', 'corp_code': '00877059', 'corp_name': '삼성바이오로직스', 'section': '주요사항', 'source': 'business_report', 'year': '2024'}, page_content='삼성바이오로직스 2024년 주요사항\\n                    항목: 주식배당금총액(백만원)\\n                    당기: -\\n                    전기: -\\n                    전전기: -'),\n",
       " Document(id='12ab6704-8d21-4a24-b3f5-26ac1d6a1fce', metadata={'content_type': 'key_matters', 'corp_code': '00877059', 'corp_name': '삼성바이오로직스', 'section': '주요사항', 'source': 'business_report', 'year': '2024'}, page_content='삼성바이오로직스 2024년 주요사항\\n                    항목: 현금배당금총액(백만원)\\n                    당기: -\\n                    전기: -\\n                    전전기: -'),\n",
       " Document(id='dc2e2309-cb52-4bee-a0d3-d4809db4bd74', metadata={'content_type': 'key_matters', 'corp_code': '00877059', 'corp_name': '삼성바이오로직스', 'section': '주요사항', 'source': 'business_report', 'year': '2024'}, page_content='삼성바이오로직스 2024년 주요사항\\n                    항목: (별도)당기순이익(백만원)\\n                    당기: 1,050,967\\n                    전기: 945,920\\n                    전전기: 686,793'),\n",
       " Document(id='7da4191c-96c6-4e56-97be-c2902957271a', metadata={'content_type': 'key_matters', 'corp_code': '00877059', 'corp_name': '삼성바이오로직스', 'section': '주요사항', 'source': 'business_report', 'year': '2024'}, page_content='삼성바이오로직스 2024년 주요사항\\n                    항목: (연결)당기순이익(백만원)\\n                    당기: 1,083,316\\n                    전기: 857,691\\n                    전전기: 798,056'),\n",
       " Document(id='1354c78a-c0a2-4e73-85a8-e20528f57c5d', metadata={'content_type': 'research_development', 'corp_code': '00877059', 'corp_name': '삼성바이오로직스', 'section': '연구개발 활동', 'source': 'business_report', 'year': '2024'}, page_content='삼성바이오로직스 2024년 연구개발 활동\\n                연구개발 투자:\\n                - 연구개발비: 전년 대비 증가\\n                - 매출액 대비 연구개발비 비율: 8.5%\\n                - 연구개발 인력: 전체 임직원의 25%\\n                \\n                주요 연구개발 분야:\\n                - 차세대 반도체 기술\\n                - 인공지능 및 머신러닝\\n                - 5G/6G 통신 기술\\n                - 친환경 기술\\n                \\n                연구개발 성과:\\n                - 특허 출원: 연간 1,000건 이상\\n                - 국제 표준화 참여\\n                - 산학협력 프로젝트 수행'),\n",
       " Document(id='c576e64b-909b-4b60-abdd-c2c498c10e56', metadata={'content_type': 'key_matters', 'corp_code': '00877059', 'corp_name': '삼성바이오로직스', 'section': '주요사항', 'source': 'business_report', 'year': '2024'}, page_content='삼성바이오로직스 2024년 주요사항\\n                    항목: 주식배당수익률(%)\\n                    당기: -\\n                    전기: -\\n                    전전기: -'),\n",
       " Document(id='bb08ec3e-604e-4362-b472-b9d92570644e', metadata={'content_type': 'key_matters', 'corp_code': '00877059', 'corp_name': '삼성바이오로직스', 'section': '주요사항', 'source': 'business_report', 'year': '2024'}, page_content='삼성바이오로직스 2024년 주요사항\\n                    항목: 주식배당수익률(%)\\n                    당기: -\\n                    전기: -\\n                    전전기: -'),\n",
       " Document(id='1d8185ec-74d1-4772-a5ae-8d6d264676b6', metadata={'content_type': 'key_matters', 'corp_code': '00877059', 'corp_name': '삼성바이오로직스', 'section': '주요사항', 'source': 'business_report', 'year': '2024'}, page_content='삼성바이오로직스 2024년 주요사항\\n                    항목: 주당 주식배당(주)\\n                    당기: -\\n                    전기: -\\n                    전전기: -'),\n",
       " Document(id='305fdd9d-cf21-44f4-9f78-0c8d14b4ac44', metadata={'content_type': 'key_matters', 'corp_code': '00877059', 'corp_name': '삼성바이오로직스', 'section': '주요사항', 'source': 'business_report', 'year': '2024'}, page_content='삼성바이오로직스 2024년 주요사항\\n                    항목: 주당 주식배당(주)\\n                    당기: -\\n                    전기: -\\n                    전전기: -'),\n",
       " Document(id='f13daae9-1482-46b5-bb7e-953ab716fc49', metadata={'content_type': 'key_matters', 'corp_code': '00877059', 'corp_name': '삼성바이오로직스', 'section': '주요사항', 'source': 'business_report', 'year': '2024'}, page_content='삼성바이오로직스 2024년 주요사항\\n                    항목: 현금배당수익률(%)\\n                    당기: -\\n                    전기: -\\n                    전전기: -')]"
      ]
     },
     "execution_count": 16,
     "metadata": {},
     "output_type": "execute_result"
    }
   ],
   "execution_count": 16
  },
  {
   "metadata": {},
   "cell_type": "code",
   "outputs": [],
   "execution_count": null,
   "source": "",
   "id": "47cdfdd2b229ed86"
  }
 ],
 "metadata": {
  "kernelspec": {
   "display_name": "Python 3",
   "language": "python",
   "name": "python3"
  },
  "language_info": {
   "codemirror_mode": {
    "name": "ipython",
    "version": 2
   },
   "file_extension": ".py",
   "mimetype": "text/x-python",
   "name": "python",
   "nbconvert_exporter": "python",
   "pygments_lexer": "ipython2",
   "version": "2.7.6"
  }
 },
 "nbformat": 4,
 "nbformat_minor": 5
}
