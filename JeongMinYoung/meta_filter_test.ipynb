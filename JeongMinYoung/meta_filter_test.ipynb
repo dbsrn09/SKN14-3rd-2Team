{
 "cells": [
  {
   "cell_type": "code",
   "id": "initial_id",
   "metadata": {
    "collapsed": true,
    "ExecuteTime": {
     "end_time": "2025-07-15T17:34:42.987234Z",
     "start_time": "2025-07-15T17:34:39.890099Z"
    }
   },
   "source": "from utils1.retreiver_setting import faiss_retriever_loading",
   "outputs": [],
   "execution_count": 1
  },
  {
   "metadata": {
    "ExecuteTime": {
     "end_time": "2025-07-15T17:35:07.921481Z",
     "start_time": "2025-07-15T17:34:42.995932Z"
    }
   },
   "cell_type": "code",
   "source": "account_retriever, business_retriever, business_retriever2, self_retriever = faiss_retriever_loading()",
   "id": "b14f5a8fef00d341",
   "outputs": [],
   "execution_count": 2
  },
  {
   "metadata": {
    "ExecuteTime": {
     "end_time": "2025-07-15T17:35:09.017816Z",
     "start_time": "2025-07-15T17:35:09.003646Z"
    }
   },
   "cell_type": "code",
   "source": [
    "queries_and_answers = [\n",
    "    (\"삼성바이오로직스 2024년 연결 당기순이익\", [\"삼성바이오로직스\", \"2024\", \"연결\", \"당기순이익\"]),\n",
    "    (\"2024년 LG전자 연구개발 활동\", [\"2024\", \"LG전자\", \"연구개발\"]),\n",
    "    (\"2023년 카카오 주요사항 요약\", [\"2023\", \"카카오\", \"주요사항\"]),\n",
    "    (\"NAVER 2024년 EPS는 얼마야?\", [\"NAVER\", \"2024\", \"주당순이익\"]),\n",
    "    (\"SK하이닉스 2023년 배당금 정보 알려줘\", [\"SK하이닉스\", \"2023\", \"배당금\"]),\n",
    "    (\"현대차 2024년 주당액면가액은?\", [\"현대차\", \"2024\", \"주당액면가액\"]),\n",
    "    (\"LG화학의 2022년 현금배당 내역\", [\"LG화학\", \"2022\", \"현금배당\"]),\n",
    "    (\"카카오 2024년 연구개발 투자 비율은?\", [\"카카오\", \"2024\", \"연구개발\", \"투자\", \"비율\"]),\n",
    "    (\"삼성전자 2023년 주요사항 정리해줘\", [\"삼성전자\", \"2023\", \"주요사항\"]),\n",
    "    (\"NAVER 2024년 연결 실적\", [\"NAVER\", \"2024\", \"연결\"]),\n",
    "    (\"LG에너지솔루션의 2023년 EPS\", [\"LG에너지솔루션\", \"2023\", \"주당순이익\"]),\n",
    "    (\"SK이노베이션 2024년 주식배당 수익률\", [\"SK이노베이션\", \"2024\", \"주식배당수익률\"]),\n",
    "    (\"2024년 현대모비스의 연구개발 성과\", [\"현대모비스\", \"2024\", \"연구개발\", \"성과\"]),\n",
    "    (\"카카오 2022년 별도 재무성과\", [\"카카오\", \"2022\", \"별도\"]),\n",
    "    (\"삼성바이오로직스의 2024년 R&D 투자\", [\"삼성바이오로직스\", \"2024\", \"연구개발\", \"투자\"]),\n",
    "]\n"
   ],
   "id": "a1a648e2b7848f3a",
   "outputs": [],
   "execution_count": 3
  },
  {
   "metadata": {
    "ExecuteTime": {
     "end_time": "2025-07-15T17:35:09.043988Z",
     "start_time": "2025-07-15T17:35:09.037375Z"
    }
   },
   "cell_type": "code",
   "source": [
    "from difflib import SequenceMatcher\n",
    "\n",
    "def evaluate_similarity_score(retriever, queries_and_answers):\n",
    "    scores = []\n",
    "    for query, expected_keywords in queries_and_answers:\n",
    "        docs = retriever.invoke(query)\n",
    "        all_text = \" \".join([doc.page_content for doc in docs])\n",
    "        score = sum(SequenceMatcher(None, all_text, kw).ratio() for kw in expected_keywords)\n",
    "        scores.append(score / len(expected_keywords))  # 평균 유사도\n",
    "    return sum(scores) / len(scores)  # 전체 평균\n"
   ],
   "id": "45abe9ab059476c5",
   "outputs": [],
   "execution_count": 4
  },
  {
   "metadata": {
    "ExecuteTime": {
     "end_time": "2025-07-15T17:35:09.078447Z",
     "start_time": "2025-07-15T17:35:09.066089Z"
    }
   },
   "cell_type": "code",
   "source": [
    "def evaluate_contains_score(retriever, queries_and_answers):\n",
    "    scores = []\n",
    "    for query, expected_keywords in queries_and_answers:\n",
    "        docs = retriever.invoke(query)\n",
    "        all_text = \" \".join([doc.page_content for doc in docs])\n",
    "        hit_count = sum(1 for kw in expected_keywords if kw in all_text)\n",
    "        scores.append(hit_count / len(expected_keywords))  # 포함된 키워드 비율\n",
    "    return sum(scores) / len(scores)  # 전체 평균\n"
   ],
   "id": "b425da791aefa7e1",
   "outputs": [],
   "execution_count": 5
  },
  {
   "metadata": {
    "ExecuteTime": {
     "end_time": "2025-07-15T17:36:35.002624Z",
     "start_time": "2025-07-15T17:35:09.100935Z"
    }
   },
   "cell_type": "code",
   "source": [
    "score1_sim = evaluate_similarity_score(business_retriever2, queries_and_answers)\n",
    "score1_contain = evaluate_contains_score(business_retriever2, queries_and_answers)\n",
    "\n",
    "score2_sim = evaluate_similarity_score(self_retriever, queries_and_answers)\n",
    "score2_contain = evaluate_contains_score(self_retriever, queries_and_answers)\n",
    "\n",
    "print(f\"📊 [No Metadata 필터]\")\n",
    "print(f\" - 유사도 평가 점수: {score1_sim:.3f}\")\n",
    "print(f\" - 키워드 포함 점수: {score1_contain:.3f}\")\n",
    "\n",
    "print(f\"📊 [With Metadata 필터]\")\n",
    "print(f\" - 유사도 평가 점수: {score2_sim:.3f}\")\n",
    "print(f\" - 키워드 포함 점수: {score2_contain:.3f}\")"
   ],
   "id": "eeeb50f3f494a3f1",
   "outputs": [
    {
     "name": "stdout",
     "output_type": "stream",
     "text": [
      "📊 [No Metadata 필터]\n",
      " - 유사도 평가 점수: 0.004\n",
      " - 키워드 포함 점수: 0.764\n",
      "📊 [With Metadata 필터]\n",
      " - 유사도 평가 점수: 0.004\n",
      " - 키워드 포함 점수: 0.644\n"
     ]
    }
   ],
   "execution_count": 6
  }
 ],
 "metadata": {
  "kernelspec": {
   "display_name": "Python 3",
   "language": "python",
   "name": "python3"
  },
  "language_info": {
   "codemirror_mode": {
    "name": "ipython",
    "version": 2
   },
   "file_extension": ".py",
   "mimetype": "text/x-python",
   "name": "python",
   "nbconvert_exporter": "python",
   "pygments_lexer": "ipython2",
   "version": "2.7.6"
  }
 },
 "nbformat": 4,
 "nbformat_minor": 5
}
